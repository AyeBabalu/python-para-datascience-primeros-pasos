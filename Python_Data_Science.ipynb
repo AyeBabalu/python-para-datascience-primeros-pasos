{
  "nbformat": 4,
  "nbformat_minor": 0,
  "metadata": {
    "colab": {
      "provenance": [],
      "include_colab_link": true
    },
    "kernelspec": {
      "name": "python3",
      "display_name": "Python 3"
    },
    "language_info": {
      "name": "python"
    }
  },
  "cells": [
    {
      "cell_type": "markdown",
      "metadata": {
        "id": "view-in-github",
        "colab_type": "text"
      },
      "source": [
        "<a href=\"https://colab.research.google.com/github/AyeBabalu/python-para-datascience-primeros-pasos/blob/main/Python_Data_Science.ipynb\" target=\"_parent\"><img src=\"https://colab.research.google.com/assets/colab-badge.svg\" alt=\"Open In Colab\"/></a>"
      ]
    },
    {
      "cell_type": "markdown",
      "source": [
        "# Python para Data Science\n",
        "\n",
        "Notebook para el curso de Python para Data Science publicado en la plataforma de [Alura Latam](https://www.aluracursos.com/)"
      ],
      "metadata": {
        "id": "lQx6Mmv0OJyT"
      }
    },
    {
      "cell_type": "markdown",
      "source": [
        "# Introducción a Python\n",
        "¡Vamos a conocer Python, nuestro ambiente de estudio, y también generaremos nuestro primer código en este lenguaje!"
      ],
      "metadata": {
        "id": "7SiB6JIpYKmY"
      }
    },
    {
      "cell_type": "markdown",
      "source": [
        "## Google Colaboratory\n",
        "\n",
        "Ya aprendimos qué es [Python](https://www.python.org/) y ahora aprenderemos a usar nuestra herramienta de ejecución [Google Colaboratory](https://colab.research.google.com/) para programar en un notebook interactivo.\n",
        "\n",
        "Vamos a probar algunas funciones de este ambiente."
      ],
      "metadata": {
        "id": "Yugfb3fCOYY9"
      }
    },
    {
      "cell_type": "markdown",
      "source": [
        " **`>>> Usa esta celda para mover <<<`**"
      ],
      "metadata": {
        "id": "2iUHQsJasJAk"
      }
    },
    {
      "cell_type": "code",
      "source": [],
      "metadata": {
        "id": "o7jrX_iKhdkU"
      },
      "execution_count": null,
      "outputs": []
    },
    {
      "cell_type": "markdown",
      "source": [
        "## ¡Hola mundo!\n",
        "\n",
        "Vamos a conocer un poco más de cerca nuestro notebook. Para ello ejecutaremos nuestro primer comando en Python: [`print()`](https://docs.python.org/3/library/functions.html#print)"
      ],
      "metadata": {
        "id": "aLSFP2V7XTfe"
      }
    },
    {
      "cell_type": "code",
      "source": [
        "print('¡Hola mundo!')"
      ],
      "metadata": {
        "id": "0qZX8_ZQBYyk",
        "colab": {
          "base_uri": "https://localhost:8080/"
        },
        "outputId": "9456fdc8-545d-4042-97a8-66de6aa74227"
      },
      "execution_count": null,
      "outputs": [
        {
          "output_type": "stream",
          "name": "stdout",
          "text": [
            "¡Hola mundo!\n"
          ]
        }
      ]
    },
    {
      "cell_type": "markdown",
      "source": [
        "#####**Ejercicios con la función \"print\"**"
      ],
      "metadata": {
        "id": "FUECXDUEbk2C"
      }
    },
    {
      "cell_type": "code",
      "source": [
        "print('Escuela de Datos de ALURA')"
      ],
      "metadata": {
        "id": "GLMzF_AKBY7a",
        "colab": {
          "base_uri": "https://localhost:8080/"
        },
        "outputId": "734905df-4281-4c05-d68b-5d2f500641be"
      },
      "execution_count": null,
      "outputs": [
        {
          "output_type": "stream",
          "name": "stdout",
          "text": [
            "Escuela de Datos de ALURA\n"
          ]
        }
      ]
    },
    {
      "cell_type": "code",
      "source": [
        "print('Nombre: Krissthian Camilo')\n",
        "print('Apellido: Sua Gomez')"
      ],
      "metadata": {
        "colab": {
          "base_uri": "https://localhost:8080/"
        },
        "id": "tuqILAd3u43u",
        "outputId": "2efde104-1e7b-424b-9f9d-2e15b6830687"
      },
      "execution_count": null,
      "outputs": [
        {
          "output_type": "stream",
          "name": "stdout",
          "text": [
            "Nombre: Krissthian Camilo\n",
            "Apellido: Sua Gomez\n"
          ]
        }
      ]
    },
    {
      "cell_type": "code",
      "source": [
        "print('C')\n",
        "print('A')\n",
        "print('M')\n",
        "print('I')\n",
        "print('L')\n",
        "print('O')"
      ],
      "metadata": {
        "colab": {
          "base_uri": "https://localhost:8080/"
        },
        "id": "O3CF2ObDvPJO",
        "outputId": "b84b1348-851a-47da-b3de-050f5a2e1579"
      },
      "execution_count": null,
      "outputs": [
        {
          "output_type": "stream",
          "name": "stdout",
          "text": [
            "C\n",
            "A\n",
            "M\n",
            "I\n",
            "L\n",
            "O\n"
          ]
        }
      ]
    },
    {
      "cell_type": "code",
      "source": [
        "print(9, 'de Mayo de', 1998)"
      ],
      "metadata": {
        "colab": {
          "base_uri": "https://localhost:8080/"
        },
        "id": "ioRhRcpTvk7w",
        "outputId": "e7393c6a-8994-4bf8-f86a-221477da50cf"
      },
      "execution_count": null,
      "outputs": [
        {
          "output_type": "stream",
          "name": "stdout",
          "text": [
            "9 de Mayo de 1998\n"
          ]
        }
      ]
    },
    {
      "cell_type": "code",
      "source": [
        "print('El año actual es: ',2025)"
      ],
      "metadata": {
        "colab": {
          "base_uri": "https://localhost:8080/"
        },
        "id": "fRDY9PaSw0XZ",
        "outputId": "9867d063-46d0-4598-b0e4-ce4058363fda"
      },
      "execution_count": null,
      "outputs": [
        {
          "output_type": "stream",
          "name": "stdout",
          "text": [
            "El año actual es:  2025\n"
          ]
        }
      ]
    },
    {
      "cell_type": "markdown",
      "source": [
        "# Manipulando los datos\n",
        "\n",
        "Vamos a aprender sobre las variables en Python, cómo declararlas y utilizarlas además de conocer otros comandos de este lenguaje. :D"
      ],
      "metadata": {
        "id": "iP8uWQmFYFRs"
      }
    },
    {
      "cell_type": "markdown",
      "source": [
        "## Variables\n",
        "\n",
        "En Data Science trabajamos con varios tipos de datos e informaciones, entonces es esencial saber cómo trabajar con las variables."
      ],
      "metadata": {
        "id": "sLNVmnTbag1Z"
      }
    },
    {
      "cell_type": "markdown",
      "source": [
        "Las variables en Python se crean cuando atribuimos un valor a ella.\n",
        "\n",
        "Para esto, colocamos el nombre de la variable, el signo de igual (`=`) y el valor que queremos atribuirle."
      ],
      "metadata": {
        "id": "lsCY0wahAbf6"
      }
    },
    {
      "cell_type": "code",
      "source": [
        "5"
      ],
      "metadata": {
        "id": "vsHh5buZADND",
        "outputId": "a71c7563-c153-4e1d-8b9e-0edea5783639",
        "colab": {
          "base_uri": "https://localhost:8080/"
        }
      },
      "execution_count": null,
      "outputs": [
        {
          "output_type": "execute_result",
          "data": {
            "text/plain": [
              "5"
            ]
          },
          "metadata": {},
          "execution_count": 16
        }
      ]
    },
    {
      "cell_type": "code",
      "source": [
        "id(5)"
      ],
      "metadata": {
        "id": "sivPtqSjADQV",
        "outputId": "8e20fa10-a606-4edd-ff7e-0a626231673e",
        "colab": {
          "base_uri": "https://localhost:8080/"
        }
      },
      "execution_count": null,
      "outputs": [
        {
          "output_type": "execute_result",
          "data": {
            "text/plain": [
              "10750984"
            ]
          },
          "metadata": {},
          "execution_count": 17
        }
      ]
    },
    {
      "cell_type": "code",
      "source": [
        "numero = 5\n",
        "id(numero)"
      ],
      "metadata": {
        "id": "JC8jO47wADlm",
        "outputId": "d99fde42-6aea-45e0-ccf7-b9318fe163ec",
        "colab": {
          "base_uri": "https://localhost:8080/"
        }
      },
      "execution_count": null,
      "outputs": [
        {
          "output_type": "execute_result",
          "data": {
            "text/plain": [
              "10750984"
            ]
          },
          "metadata": {},
          "execution_count": 18
        }
      ]
    },
    {
      "cell_type": "markdown",
      "source": [
        "Existen algunos tipos de nomes que **no** podemos definir para las variables:\n",
        "\n",
        "- **Nombres que comiencen con números**\n",
        "  - Ejemplos: `10_notas`, `2_nombre_casa`, etc.\n",
        "- **Palabras separadas por espacio**\n",
        "  - Ejemplos: `Nombre escuela`, `notas estudiantes`, etc.\n",
        "- **Nombres de funciones de Python**\n",
        "  - Ejemplos: `print`, `type`, etc."
      ],
      "metadata": {
        "id": "om2N0jHKAzwL"
      }
    },
    {
      "cell_type": "markdown",
      "source": [
        "> Las letras mayúsculas y minúsculas generarán diferentes variables. La variable `edad` es diferente de `Edad` que a su vez es diferente de `EDAD`:\n",
        "``` Python\n",
        "edad = 1\n",
        "Edad = 2\n",
        "EDAD = 3\n",
        "_edad = 4\n",
        "_edad_ = 5\n",
        "print(edad, Edad, EDAD, _edad, _edad_)\n",
        "1 2 3 4 5\n",
        "```"
      ],
      "metadata": {
        "id": "A19vY2GVMujB"
      }
    },
    {
      "cell_type": "markdown",
      "source": [
        "## Tipos de variables\n",
        "\n",
        "Cada variable contiene una clase específica con respecto al tipo de objeto al cual esta hace referencia. Estas clases serán diferentes de acuerdo con el tipo de dato que le sea atribuido a una variable.\n",
        "\n",
        "Para conocer la clase de cada elemento usamos la función [`type()`](https://docs.python.org/3/library/functions.html#type)"
      ],
      "metadata": {
        "id": "UqhzuBhBHsps"
      }
    },
    {
      "cell_type": "code",
      "source": [
        "edad = 27\n",
        "print(edad)\n",
        "print(type(edad))"
      ],
      "metadata": {
        "id": "J5a9t73A_-PX",
        "colab": {
          "base_uri": "https://localhost:8080/"
        },
        "outputId": "388e98f6-6d8b-4041-e488-5cbe932bdd85"
      },
      "execution_count": null,
      "outputs": [
        {
          "output_type": "stream",
          "name": "stdout",
          "text": [
            "27\n",
            "<class 'int'>\n"
          ]
        }
      ]
    },
    {
      "cell_type": "code",
      "source": [
        "Nombre = 'Krissthian'\n",
        "print(Nombre)\n",
        "print(type(Nombre))"
      ],
      "metadata": {
        "id": "rqmO1ew-_-So",
        "colab": {
          "base_uri": "https://localhost:8080/"
        },
        "outputId": "2d91d243-7635-47ae-e598-170bfece30af"
      },
      "execution_count": null,
      "outputs": [
        {
          "output_type": "stream",
          "name": "stdout",
          "text": [
            "Krissthian\n",
            "<class 'str'>\n"
          ]
        }
      ]
    },
    {
      "cell_type": "code",
      "source": [
        "Nota = 9.5\n",
        "print(Nota)\n",
        "print(type(Nota))"
      ],
      "metadata": {
        "id": "xkrPMkeY_-cP",
        "colab": {
          "base_uri": "https://localhost:8080/"
        },
        "outputId": "a0ae5352-3d78-477b-e097-f327501cc128"
      },
      "execution_count": null,
      "outputs": [
        {
          "output_type": "stream",
          "name": "stdout",
          "text": [
            "9.5\n",
            "<class 'float'>\n"
          ]
        }
      ]
    },
    {
      "cell_type": "code",
      "source": [
        "Aprobado = True\n",
        "print(Aprobado)\n",
        "print(type(Aprobado))"
      ],
      "metadata": {
        "colab": {
          "base_uri": "https://localhost:8080/"
        },
        "id": "uqEY31nafrtO",
        "outputId": "b1f27ec8-1b9b-45e5-e173-4369edc996ce"
      },
      "execution_count": null,
      "outputs": [
        {
          "output_type": "stream",
          "name": "stdout",
          "text": [
            "True\n",
            "<class 'bool'>\n"
          ]
        }
      ]
    },
    {
      "cell_type": "markdown",
      "source": [
        "En un conjunto de datos escolares podemos tener varios tipos de informaciones. Supongamos que tenemos acceso a la ficha de datos del alumno *Penélope Camacho*, cómo transformamos este nombre en variables de Python?\n",
        "\n",
        "#### Ficha:\n",
        "\n",
        "- Nombre: Penélope Camacho\n",
        "- Edad: 11 años\n",
        "- Promedio del semestre: 9,75\n",
        "- Situación de aprobación: Verdadera (aprobado)"
      ],
      "metadata": {
        "id": "O-FxDumfWu0C"
      }
    },
    {
      "cell_type": "code",
      "source": [
        "Nombre_alumno = 'Penélope Camacho'\n",
        "Edad_alumno = 11\n",
        "Promedio_semestre = 9.75\n",
        "Aprobado = True\n",
        "\n",
        "print(Nombre_alumno, Edad_alumno, Promedio_semestre, Aprobado)\n",
        "\n",
        "print(type(Nombre_alumno), type(Edad_alumno), type(Promedio_semestre), type(Aprobado))"
      ],
      "metadata": {
        "id": "FabQ7jQf_8Xt",
        "colab": {
          "base_uri": "https://localhost:8080/"
        },
        "outputId": "bad7c0ff-1c23-4939-9786-6705d0491e34"
      },
      "execution_count": null,
      "outputs": [
        {
          "output_type": "stream",
          "name": "stdout",
          "text": [
            "Penélope Camacho 11 9.75 True\n",
            "<class 'str'> <class 'int'> <class 'float'> <class 'bool'>\n"
          ]
        }
      ]
    },
    {
      "cell_type": "markdown",
      "source": [
        "## Variables numéricas\n",
        "\n",
        "Entre los tipos de datos numéricos vamos a enfocarnos en los tipos `entero` y `float`."
      ],
      "metadata": {
        "id": "KFq_8Sxf-OG0"
      }
    },
    {
      "cell_type": "markdown",
      "source": [
        "Tenemos una tabla de información sobre los diversos cargos, cantidad de personas empleadas y el salario correspondiente:\n",
        "\n",
        "|Cargo | Cantidad | Salario|\n",
        "|---|---|---|\n",
        "|Vigilante | 5 | 300 |\n",
        "|Docente | 16| 500|\n",
        "|Coordinador| 2 |600|\n",
        "\n",
        "Necesitamos trabajar con estos datos para obtener:\n",
        "\n",
        "- La cantidad total de empleados;\n",
        "- La diferencia entre el salario más bajo y más alto; y\n",
        "- El promedio ponderado de los salarios de los empleados de la escuela."
      ],
      "metadata": {
        "id": "8_HYUbkVYdQY"
      }
    },
    {
      "cell_type": "code",
      "source": [
        "cant_vigilante = 5\n",
        "cant_docente = 16\n",
        "cant_coordinador = 2\n",
        "\n",
        "salario_vigilante = 300\n",
        "salario_docente = 500\n",
        "salario_coordinador = 600"
      ],
      "metadata": {
        "id": "F_X-wxdm_5Ys"
      },
      "execution_count": null,
      "outputs": []
    },
    {
      "cell_type": "code",
      "source": [
        "total_empleados = cant_vigilante + cant_docente + cant_coordinador\n",
        "total_empleados"
      ],
      "metadata": {
        "id": "gKmBbhII_5b9",
        "colab": {
          "base_uri": "https://localhost:8080/"
        },
        "outputId": "e06e7262-ec01-483d-8297-397a16aaa7fa"
      },
      "execution_count": null,
      "outputs": [
        {
          "output_type": "execute_result",
          "data": {
            "text/plain": [
              "23"
            ]
          },
          "metadata": {},
          "execution_count": 25
        }
      ]
    },
    {
      "cell_type": "code",
      "source": [
        "diferencia_salarios = max(salario_vigilante, salario_docente, salario_coordinador) - min(salario_vigilante, salario_docente, salario_coordinador)\n",
        "diferencia_salarios"
      ],
      "metadata": {
        "id": "fIugsxNy_53j",
        "colab": {
          "base_uri": "https://localhost:8080/"
        },
        "outputId": "c012f90e-73a5-49fa-bd5e-a88e9c520232"
      },
      "execution_count": null,
      "outputs": [
        {
          "output_type": "execute_result",
          "data": {
            "text/plain": [
              "300"
            ]
          },
          "metadata": {},
          "execution_count": 26
        }
      ]
    },
    {
      "cell_type": "code",
      "source": [
        "promedio_salarios = (salario_vigilante * cant_vigilante + salario_docente * cant_docente + salario_coordinador * cant_coordinador) / total_empleados\n",
        "promedio_salarios"
      ],
      "metadata": {
        "colab": {
          "base_uri": "https://localhost:8080/"
        },
        "id": "5UtLuok24pK-",
        "outputId": "3cb61ef9-be78-4a69-d2d1-b72c137b2ed1"
      },
      "execution_count": null,
      "outputs": [
        {
          "output_type": "execute_result",
          "data": {
            "text/plain": [
              "465.2173913043478"
            ]
          },
          "metadata": {},
          "execution_count": 27
        }
      ]
    },
    {
      "cell_type": "markdown",
      "source": [
        "## Strings"
      ],
      "metadata": {
        "id": "yQy7b0ZWoD-P"
      }
    },
    {
      "cell_type": "markdown",
      "source": [
        "Strings hace referencia a un conjunto de caracteres formando un texto.\n",
        "\n",
        "Podemos crear Strings cuando atribuimos un dato a una variable entre comillas sencillas (`'`) o comillas dobles (`\"`)."
      ],
      "metadata": {
        "id": "vlo2-DXusv3s"
      }
    },
    {
      "cell_type": "code",
      "source": [
        "nombre = \"Camilo\"\n",
        "print(id(nombre))\n",
        "print(type(nombre))\n"
      ],
      "metadata": {
        "id": "ityEWqvh_2wK",
        "colab": {
          "base_uri": "https://localhost:8080/"
        },
        "outputId": "779b9d75-75cf-42e5-f219-944013fab84a"
      },
      "execution_count": null,
      "outputs": [
        {
          "output_type": "stream",
          "name": "stdout",
          "text": [
            "139018963966960\n",
            "<class 'str'>\n"
          ]
        }
      ]
    },
    {
      "cell_type": "markdown",
      "source": [
        "Las variables textuales son objetos que poseen métodos que nos ayudan a formatear strings. Los métodos los podemos ejecutar al definir un objeto de acuerdo con la siguiente estructura:\n",
        "\n",
        "```\n",
        "objeto.metodo()\n",
        "```\n",
        "\n",
        "Existen métodos que no necesitan los `()`, siempre es una buena práctica verificar la documentación para cada caso."
      ],
      "metadata": {
        "id": "2e9UD_CCxqz_"
      }
    },
    {
      "cell_type": "markdown",
      "source": [
        "---\n",
        "**Situación:**\n",
        "\n",
        "Recibimos una variable con el nombre de una profesora de la escuela para añadirla a los registros. Sin embargo, necesitamos darle un tratamiento a este texto antes de insertarlo al sistema."
      ],
      "metadata": {
        "id": "p6aPmMGP4tf9"
      }
    },
    {
      "cell_type": "code",
      "source": [
        "texto = '  Micaela de los Sanyos '"
      ],
      "metadata": {
        "id": "icDWtYTjBO0n"
      },
      "execution_count": null,
      "outputs": []
    },
    {
      "cell_type": "code",
      "source": [
        "id(texto)"
      ],
      "metadata": {
        "colab": {
          "base_uri": "https://localhost:8080/"
        },
        "id": "vTbhPgVXptO7",
        "outputId": "e891e5e6-787e-4fd6-d06b-eef40cb57142"
      },
      "execution_count": null,
      "outputs": [
        {
          "output_type": "execute_result",
          "data": {
            "text/plain": [
              "139019649247040"
            ]
          },
          "metadata": {},
          "execution_count": 6
        }
      ]
    },
    {
      "cell_type": "markdown",
      "source": [
        "El objetivo final es que el nombre aparezca de la siguiente forma:\n",
        "\n",
        "```\n",
        "'MICAELA DE LOS SANTOS'\n",
        "```"
      ],
      "metadata": {
        "id": "Dg2ZXSZOGzjC"
      }
    },
    {
      "cell_type": "markdown",
      "source": [
        "### [`str.upper()` ](https://docs.python.org/3/library/stdtypes.html#str.upper)\n",
        "Convierte una string a mayúsculas."
      ],
      "metadata": {
        "id": "iVTAD8q702eN"
      }
    },
    {
      "cell_type": "code",
      "source": [
        "texto.upper()"
      ],
      "metadata": {
        "id": "wMVshJrY_ZXh",
        "colab": {
          "base_uri": "https://localhost:8080/",
          "height": 35
        },
        "outputId": "a5b72fa4-be75-4484-c0e0-371f9de677df"
      },
      "execution_count": null,
      "outputs": [
        {
          "output_type": "execute_result",
          "data": {
            "text/plain": [
              "'  MICAELA DE LOS SANYOS '"
            ],
            "application/vnd.google.colaboratory.intrinsic+json": {
              "type": "string"
            }
          },
          "metadata": {},
          "execution_count": 7
        }
      ]
    },
    {
      "cell_type": "markdown",
      "source": [
        "### [`str.lower()`](https://docs.python.org/3/library/stdtypes.html#str.lower)\n",
        "Convierte una string a minúsculas."
      ],
      "metadata": {
        "id": "hbDSBtMV1TpG"
      }
    },
    {
      "cell_type": "code",
      "source": [
        "texto.lower()"
      ],
      "metadata": {
        "id": "px3yEeNH_YK4",
        "colab": {
          "base_uri": "https://localhost:8080/",
          "height": 35
        },
        "outputId": "40adb334-9e8b-454e-d606-310888170989"
      },
      "execution_count": null,
      "outputs": [
        {
          "output_type": "execute_result",
          "data": {
            "text/plain": [
              "'  micaela de los sanyos '"
            ],
            "application/vnd.google.colaboratory.intrinsic+json": {
              "type": "string"
            }
          },
          "metadata": {},
          "execution_count": 8
        }
      ]
    },
    {
      "cell_type": "markdown",
      "source": [
        "### [`str.strip()`](https://docs.python.org/3/library/stdtypes.html#str.strip)\n",
        "Elimina los espacios en blanco al inicio y al final de una string."
      ],
      "metadata": {
        "id": "kz47eWM11gii"
      }
    },
    {
      "cell_type": "code",
      "source": [
        "texto.strip()"
      ],
      "metadata": {
        "id": "76dLgNa4_XAe",
        "colab": {
          "base_uri": "https://localhost:8080/",
          "height": 35
        },
        "outputId": "5a527abe-de0e-43cf-9e48-380ee5106871"
      },
      "execution_count": null,
      "outputs": [
        {
          "output_type": "execute_result",
          "data": {
            "text/plain": [
              "'Micaela de los Sanyos'"
            ],
            "application/vnd.google.colaboratory.intrinsic+json": {
              "type": "string"
            }
          },
          "metadata": {},
          "execution_count": 9
        }
      ]
    },
    {
      "cell_type": "markdown",
      "source": [
        "### [`str.replace(antiguo, nuevo)`](https://docs.python.org/3/library/stdtypes.html#str.replace)\n",
        "\n",
        "Sustituye todas las ocurrencias del texto \"antiguo\" en la string por el  \"nuevo\"."
      ],
      "metadata": {
        "id": "m6notiyS1SCV"
      }
    },
    {
      "cell_type": "code",
      "source": [
        "texto.replace('y', 't')"
      ],
      "metadata": {
        "id": "PNXAixtE_V6R",
        "colab": {
          "base_uri": "https://localhost:8080/",
          "height": 35
        },
        "outputId": "08420a81-b4e7-42c1-bf89-5969d821aba8"
      },
      "execution_count": null,
      "outputs": [
        {
          "output_type": "execute_result",
          "data": {
            "text/plain": [
              "'  Micaela de los Santos '"
            ],
            "application/vnd.google.colaboratory.intrinsic+json": {
              "type": "string"
            }
          },
          "metadata": {},
          "execution_count": 30
        }
      ]
    },
    {
      "cell_type": "markdown",
      "source": [
        "### Observaciones\n",
        "\n",
        "1. Los métodos devuelven una **tranformación**, no son ejecutados directamente sobre la variable donde está almacenado el texto.\n",
        "\n",
        "2. Adicionalmente, podemos acumular la ejecución de los métodos."
      ],
      "metadata": {
        "id": "zukvEjhG2Rcn"
      }
    },
    {
      "cell_type": "code",
      "source": [
        "id(texto)"
      ],
      "metadata": {
        "id": "JjkBRklr_T5n",
        "colab": {
          "base_uri": "https://localhost:8080/"
        },
        "outputId": "fdc5b32d-7fc7-4b1b-a11d-d2dc450f5d22"
      },
      "execution_count": null,
      "outputs": [
        {
          "output_type": "execute_result",
          "data": {
            "text/plain": [
              "139019649247040"
            ]
          },
          "metadata": {},
          "execution_count": 29
        }
      ]
    },
    {
      "cell_type": "markdown",
      "source": [
        "Para que la transformación se pueda ejecutar debemos atribuir la salida de las transformaciones a las variables"
      ],
      "metadata": {
        "id": "1KbwfVut2h6I"
      }
    },
    {
      "cell_type": "code",
      "source": [
        "nuevo_texto = texto.strip().upper().replace('Y', 'T')\n",
        "nuevo_texto"
      ],
      "metadata": {
        "id": "ocPP-Jaj_SJI",
        "colab": {
          "base_uri": "https://localhost:8080/",
          "height": 35
        },
        "outputId": "3f780e6d-0214-4f31-add0-d81d62fc9981"
      },
      "execution_count": null,
      "outputs": [
        {
          "output_type": "execute_result",
          "data": {
            "text/plain": [
              "'MICAELA DE LOS SANTOS'"
            ],
            "application/vnd.google.colaboratory.intrinsic+json": {
              "type": "string"
            }
          },
          "metadata": {},
          "execution_count": 32
        }
      ]
    },
    {
      "cell_type": "code",
      "source": [
        "print(id(texto))\n",
        "print(id(nuevo_texto))\n"
      ],
      "metadata": {
        "id": "m1RvLGZZ_SP3",
        "colab": {
          "base_uri": "https://localhost:8080/"
        },
        "outputId": "87da0f83-0c98-4bd5-8a4d-6326440f6ace"
      },
      "execution_count": null,
      "outputs": [
        {
          "output_type": "stream",
          "name": "stdout",
          "text": [
            "139019649247040\n",
            "139018964029232\n"
          ]
        }
      ]
    },
    {
      "cell_type": "code",
      "source": [
        "texto = texto.strip().upper().replace('Y', 'T')\n",
        "print(texto)\n",
        "print(id(texto), id(nuevo_texto))"
      ],
      "metadata": {
        "colab": {
          "base_uri": "https://localhost:8080/"
        },
        "id": "Dn059XsOq_Lj",
        "outputId": "483762d2-d885-45d1-d7a4-7189fb12cec7"
      },
      "execution_count": null,
      "outputs": [
        {
          "output_type": "stream",
          "name": "stdout",
          "text": [
            "MICAELA DE LOS SANTOS\n",
            "139018963997584 139018964029232\n"
          ]
        }
      ]
    },
    {
      "cell_type": "markdown",
      "source": [
        "## Capturando datos\n",
        "\n",
        "En algunas aplicaciones necesitamos capturar los valores del usuario de nuestro proyecto. En python, logramos capturar los datos del usuario a través del comando [`input()`](https://docs.python.org/3/library/functions.html#input).\n",
        "\n",
        "Para ejecutar la captura debemos atribuir el resultado de esta función a una variable."
      ],
      "metadata": {
        "id": "0h9Fh5G9kHCa"
      }
    },
    {
      "cell_type": "code",
      "source": [
        "nombre = input('¿Cuál es tu nombre?: ')"
      ],
      "metadata": {
        "id": "zbH_9i3q_PdY",
        "colab": {
          "base_uri": "https://localhost:8080/"
        },
        "outputId": "74687d28-f279-4070-db82-429860d96ce6"
      },
      "execution_count": null,
      "outputs": [
        {
          "name": "stdout",
          "output_type": "stream",
          "text": [
            "¿Cuál es tu nombre?: Camilo\n"
          ]
        }
      ]
    },
    {
      "cell_type": "code",
      "source": [
        "type(nombre)"
      ],
      "metadata": {
        "id": "JZy1Q9Tl_PgL",
        "colab": {
          "base_uri": "https://localhost:8080/"
        },
        "outputId": "19fd31eb-cd16-4766-d341-4663c93bd6f3"
      },
      "execution_count": null,
      "outputs": [
        {
          "output_type": "execute_result",
          "data": {
            "text/plain": [
              "str"
            ]
          },
          "metadata": {},
          "execution_count": 38
        }
      ]
    },
    {
      "cell_type": "code",
      "source": [
        "año_admitido = input('¿En qué año ingresaste a la escuela?: ')"
      ],
      "metadata": {
        "id": "T7m180ZtufWB",
        "outputId": "90a59a24-bfba-4c61-c184-9b5e346f5088",
        "colab": {
          "base_uri": "https://localhost:8080/"
        }
      },
      "execution_count": null,
      "outputs": [
        {
          "name": "stdout",
          "output_type": "stream",
          "text": [
            "¿En qué año ingresaste a la escuela?: 2022\n"
          ]
        }
      ]
    },
    {
      "cell_type": "code",
      "source": [
        "año_graduacion = input('¿En qué año vas a graduarte?: ')"
      ],
      "metadata": {
        "id": "--2hl_kjufQC",
        "outputId": "a692452d-4dc0-4fa4-bc20-ea3e22e22e11",
        "colab": {
          "base_uri": "https://localhost:8080/"
        }
      },
      "execution_count": null,
      "outputs": [
        {
          "name": "stdout",
          "output_type": "stream",
          "text": [
            "¿En qué año vas a graduarte?: 2024\n"
          ]
        }
      ]
    },
    {
      "cell_type": "code",
      "source": [
        "sumado = año_admitido + año_graduacion\n",
        "sumado"
      ],
      "metadata": {
        "id": "2HhVUWuguez4",
        "outputId": "b571d5ad-3cd9-450f-eb73-c702ff3617a9",
        "colab": {
          "base_uri": "https://localhost:8080/",
          "height": 35
        }
      },
      "execution_count": null,
      "outputs": [
        {
          "output_type": "execute_result",
          "data": {
            "text/plain": [
              "'20222024'"
            ],
            "application/vnd.google.colaboratory.intrinsic+json": {
              "type": "string"
            }
          },
          "metadata": {},
          "execution_count": 41
        }
      ]
    },
    {
      "cell_type": "markdown",
      "source": [
        "La salida de este comando siempre será una *string*. Esto quiere decir que aunque capturemos un valor de variable numérica, este será de tipo string.\n",
        "\n",
        "Entonces, será necesario **convertir el resultado cuando no se desea utilizar el valor como tipo string**."
      ],
      "metadata": {
        "id": "7z7hcLCk_aCY"
      }
    },
    {
      "cell_type": "markdown",
      "source": [
        "Existen funciones para la conversión de valores:\n",
        "\n",
        "- Enteros: [`int(dato_para_conversion)`](https://docs.python.org/3/library/functions.html#int)\n",
        "- Coma flotante: [`float(dato_para_conversion)`](https://docs.python.org/3/library/functions.html#float)\n",
        "- String: [`str(dato_para_conversion)`](https://docs.python.org/3/library/functions.html#func-str)\n",
        "- Booleano: [`bool(dato_para_conversion)`](https://docs.python.org/3/library/functions.html#bool)"
      ],
      "metadata": {
        "id": "TOlegATj1Jfp"
      }
    },
    {
      "cell_type": "code",
      "source": [
        "ano_admitido = int(input('¿En qué año ingresaste a la escuela?: '))"
      ],
      "metadata": {
        "id": "wV2Gq11ku4oz",
        "outputId": "c17a3e73-fa57-4cc3-8b95-6253e01424ec",
        "colab": {
          "base_uri": "https://localhost:8080/"
        }
      },
      "execution_count": null,
      "outputs": [
        {
          "name": "stdout",
          "output_type": "stream",
          "text": [
            "¿En qué año ingresaste a la escuela?: 2022\n"
          ]
        }
      ]
    },
    {
      "cell_type": "code",
      "source": [
        "type(ano_admitido)"
      ],
      "metadata": {
        "id": "m0gArAf1u4gM",
        "outputId": "483f252e-3bb1-4da9-9232-6e0f4fa1e480",
        "colab": {
          "base_uri": "https://localhost:8080/"
        }
      },
      "execution_count": null,
      "outputs": [
        {
          "output_type": "execute_result",
          "data": {
            "text/plain": [
              "int"
            ]
          },
          "metadata": {},
          "execution_count": 44
        }
      ]
    },
    {
      "cell_type": "code",
      "source": [
        "nota_final = float(input('¿Cuál es tu nota final?: '))"
      ],
      "metadata": {
        "id": "BMvH3KZ_u4Mw",
        "outputId": "60796904-32f1-4274-bc33-3013c3dd007f",
        "colab": {
          "base_uri": "https://localhost:8080/"
        }
      },
      "execution_count": null,
      "outputs": [
        {
          "name": "stdout",
          "output_type": "stream",
          "text": [
            "¿Cuál es tu nota final?: 8.7\n"
          ]
        }
      ]
    },
    {
      "cell_type": "code",
      "source": [
        "type(nota_final)"
      ],
      "metadata": {
        "id": "pENDvelsvNHm",
        "outputId": "e1b69a2b-0a02-463a-eb73-bff90436ef12",
        "colab": {
          "base_uri": "https://localhost:8080/"
        }
      },
      "execution_count": null,
      "outputs": [
        {
          "output_type": "execute_result",
          "data": {
            "text/plain": [
              "float"
            ]
          },
          "metadata": {},
          "execution_count": 46
        }
      ]
    },
    {
      "cell_type": "markdown",
      "source": [
        "Trataremos de representar mejor ahora el resultado de la transformación que obtuvimos. Nosotros podemos formatear y presentar nuestro resultado mezclando strings con valores no textuales.\n",
        "\n",
        "Para ello utilizamos la estructura de formatación `f` con strings."
      ],
      "metadata": {
        "id": "yNI2-XTbB3aS"
      }
    },
    {
      "cell_type": "code",
      "source": [
        "print(f'El año en que ingresaste a la escuela fue: {ano_admitido}')"
      ],
      "metadata": {
        "id": "keJjA5N9_K5i",
        "colab": {
          "base_uri": "https://localhost:8080/"
        },
        "outputId": "59c0d534-b7b3-49a0-9588-a4385a5bd577"
      },
      "execution_count": null,
      "outputs": [
        {
          "output_type": "stream",
          "name": "stdout",
          "text": [
            "El año en que ingresaste a la escuela fue: 2022\n"
          ]
        }
      ]
    },
    {
      "cell_type": "code",
      "source": [
        "print(f'Tu nota final es: {nota_final}')"
      ],
      "metadata": {
        "id": "Jot4-Mhzvihv",
        "outputId": "a482ea0c-2a02-4d9f-8610-984386815e49",
        "colab": {
          "base_uri": "https://localhost:8080/"
        }
      },
      "execution_count": null,
      "outputs": [
        {
          "output_type": "stream",
          "name": "stdout",
          "text": [
            "Tu nota final es: 8.7\n"
          ]
        }
      ]
    },
    {
      "cell_type": "code",
      "source": [
        "print( f'\\tEl año en que ingresaste a la escuela fue: {ano_admitido} \\n\\tTu nota final es: {nota_final}')"
      ],
      "metadata": {
        "id": "4U7R0-eKvvNc",
        "outputId": "9bdd6621-c4ec-4458-9eb1-05564dbbc3ae",
        "colab": {
          "base_uri": "https://localhost:8080/"
        }
      },
      "execution_count": null,
      "outputs": [
        {
          "output_type": "stream",
          "name": "stdout",
          "text": [
            "\tEl año en que ingresaste a la escuela fue: 2022 \n",
            "\tTu nota final es: 8.7\n"
          ]
        }
      ]
    },
    {
      "cell_type": "markdown",
      "source": [
        "Ejercicios de los diversos formatos de print"
      ],
      "metadata": {
        "id": "Y8LC_Yfow94j"
      }
    },
    {
      "cell_type": "code",
      "source": [
        "nombre = \"Ana María\"\n",
        "edad = 17\n",
        "print(f\"El nombre de la alumna es {nombre} y su edad es {edad} años.\")"
      ],
      "metadata": {
        "id": "hr7brxfgw5_S",
        "outputId": "ab0b3ab1-f4a7-4c4c-a6d5-81bc30063230",
        "colab": {
          "base_uri": "https://localhost:8080/"
        }
      },
      "execution_count": null,
      "outputs": [
        {
          "output_type": "stream",
          "name": "stdout",
          "text": [
            "El nombre de la alumna es Ana María y su edad es 17 años.\n"
          ]
        }
      ]
    },
    {
      "cell_type": "code",
      "source": [
        "nombre_alumno = 'Penélope Camacho'\n",
        "print('Nombre del alumno: %s' %(nombre_alumno))"
      ],
      "metadata": {
        "id": "zeGC61xuw50f",
        "outputId": "b0960137-af1d-4aef-daf4-4f1495702df3",
        "colab": {
          "base_uri": "https://localhost:8080/"
        }
      },
      "execution_count": null,
      "outputs": [
        {
          "output_type": "stream",
          "name": "stdout",
          "text": [
            "Nombre del alumno: Penélope Camacho\n"
          ]
        }
      ]
    },
    {
      "cell_type": "code",
      "source": [
        "nombre_alumno = 'Penélope Camacho'\n",
        "edad_alumno = 11\n",
        "media_alumno = 9.95\n",
        "print('Nombre del alumno es %s, tiene %d años y su media es %f.' %(nombre_alumno, edad_alumno, media_alumno))"
      ],
      "metadata": {
        "id": "u_sRRNdWw5m1",
        "outputId": "0d33a1e9-5af4-4c6e-cd0b-1b83a7c2f7df",
        "colab": {
          "base_uri": "https://localhost:8080/"
        }
      },
      "execution_count": null,
      "outputs": [
        {
          "output_type": "stream",
          "name": "stdout",
          "text": [
            "Nombre del alumno es Penélope Camacho, tiene 11 años y su media es 9.950000.\n"
          ]
        }
      ]
    },
    {
      "cell_type": "code",
      "source": [
        "print('Nombre del alumno es %s, tiene %d años y su media es %.2f.' %(nombre_alumno, edad_alumno, media_alumno))"
      ],
      "metadata": {
        "id": "nONVq6ctyBxI",
        "outputId": "2fb4f0a0-7812-4075-cce6-4212f2d05577",
        "colab": {
          "base_uri": "https://localhost:8080/"
        }
      },
      "execution_count": null,
      "outputs": [
        {
          "output_type": "stream",
          "name": "stdout",
          "text": [
            "Nombre del alumno es Penélope Camacho, tiene 11 años y su media es 9.95.\n"
          ]
        }
      ]
    },
    {
      "cell_type": "code",
      "source": [
        "x = True\n",
        "print(\"Valor de x: %s\" % str(x))"
      ],
      "metadata": {
        "id": "kp6Had66yUH-",
        "outputId": "5facbf45-7c20-4e57-b10b-c334434cd43e",
        "colab": {
          "base_uri": "https://localhost:8080/"
        }
      },
      "execution_count": null,
      "outputs": [
        {
          "output_type": "stream",
          "name": "stdout",
          "text": [
            "Valor de x: True\n"
          ]
        }
      ]
    },
    {
      "cell_type": "code",
      "source": [
        "nombre_alumno = 'Penélope Camacho'\n",
        "print('Nombre del alumno: {}'.format(nombre_alumno))"
      ],
      "metadata": {
        "id": "tN3VJkPdyXG_",
        "outputId": "33300156-b818-4469-d404-27a6a2e8dba3",
        "colab": {
          "base_uri": "https://localhost:8080/"
        }
      },
      "execution_count": null,
      "outputs": [
        {
          "output_type": "stream",
          "name": "stdout",
          "text": [
            "Nombre del alumno: Penélope Camacho\n"
          ]
        }
      ]
    },
    {
      "cell_type": "code",
      "source": [
        "nombre_alumno = 'Fabricio Daniel'\n",
        "edad_alumno = 15\n",
        "media_alumno = 9.95\n",
        "print('Nombre del alumno es {}, tiene {} años y su media es {}.' .format(nombre_alumno, edad_alumno, media_alumno))"
      ],
      "metadata": {
        "id": "D9CmuQNgyhAE",
        "outputId": "47c5377d-8d03-48e6-b42a-bf2a6016a7f6",
        "colab": {
          "base_uri": "https://localhost:8080/"
        }
      },
      "execution_count": null,
      "outputs": [
        {
          "output_type": "stream",
          "name": "stdout",
          "text": [
            "Nombre del alumno es Fabricio Daniel, tiene 15 años y su media es 9.95.\n"
          ]
        }
      ]
    },
    {
      "cell_type": "code",
      "source": [
        "print(\"Estudiar es un esfuerzo constante,\\nEs como cultivar una planta,\\nNecesitamos dedicación y paciencia,\\nPara ver madurar el fruto.\")"
      ],
      "metadata": {
        "id": "03j4E5-XypUS",
        "outputId": "b40c1d76-0495-456e-dc6c-9d33876ce63c",
        "colab": {
          "base_uri": "https://localhost:8080/"
        }
      },
      "execution_count": null,
      "outputs": [
        {
          "output_type": "stream",
          "name": "stdout",
          "text": [
            "Estudiar es un esfuerzo constante,\n",
            "Es como cultivar una planta,\n",
            "Necesitamos dedicación y paciencia,\n",
            "Para ver madurar el fruto.\n"
          ]
        }
      ]
    },
    {
      "cell_type": "code",
      "source": [
        "print('Cantidad\\tCalidad\\n5 muestras\\tAlta\\n3 muestras\\tBaja')"
      ],
      "metadata": {
        "id": "5d5s98UTytZJ",
        "outputId": "70555a3a-ab62-48fd-f981-9872aa2f683b",
        "colab": {
          "base_uri": "https://localhost:8080/"
        }
      },
      "execution_count": null,
      "outputs": [
        {
          "output_type": "stream",
          "name": "stdout",
          "text": [
            "Cantidad\tCalidad\n",
            "5 muestras\tAlta\n",
            "3 muestras\tBaja\n"
          ]
        }
      ]
    },
    {
      "cell_type": "code",
      "source": [
        "print(\"Ruta del archivo: C:\\\\archivos\\\\documento.csv\")"
      ],
      "metadata": {
        "id": "f_o2dWrwyz2R",
        "outputId": "513f0ce0-5963-4f25-e985-7f380ee909e8",
        "colab": {
          "base_uri": "https://localhost:8080/"
        }
      },
      "execution_count": null,
      "outputs": [
        {
          "output_type": "stream",
          "name": "stdout",
          "text": [
            "Ruta del archivo: C:\\archivos\\documento.csv\n"
          ]
        }
      ]
    },
    {
      "cell_type": "code",
      "source": [
        "print(\"Una vez oí: \\\"Los frutos del conocimiento son los más dulces y duraderos de todos.\\\"\")"
      ],
      "metadata": {
        "id": "RQWbHhcYy2tR",
        "outputId": "46e4d16b-e525-4ec1-bc25-26387b93ea3b",
        "colab": {
          "base_uri": "https://localhost:8080/"
        }
      },
      "execution_count": null,
      "outputs": [
        {
          "output_type": "stream",
          "name": "stdout",
          "text": [
            "Una vez oí: \"Los frutos del conocimiento son los más dulces y duraderos de todos.\"\n"
          ]
        }
      ]
    },
    {
      "cell_type": "code",
      "source": [
        "print('Mi profesora una vez dijo: \\'Estudiar es la clave del éxito.\\'')"
      ],
      "metadata": {
        "id": "Ed6n9GO8y54H",
        "outputId": "0d486969-a321-4dbf-87b8-a1047697df3f",
        "colab": {
          "base_uri": "https://localhost:8080/"
        }
      },
      "execution_count": null,
      "outputs": [
        {
          "output_type": "stream",
          "name": "stdout",
          "text": [
            "Mi profesora una vez dijo: 'Estudiar es la clave del éxito.'\n"
          ]
        }
      ]
    },
    {
      "cell_type": "markdown",
      "source": [
        "#####**Ejercicios practicos de recopilación y muestra de datos**"
      ],
      "metadata": {
        "id": "AEeYc9DNNNQw"
      }
    },
    {
      "cell_type": "code",
      "source": [
        "# 1_Crea un programa que solicite al usuario que escriba su nombre y luego imprima \"Hola, [nombre].\"\n",
        "nombre = input(\"Escribe tu nombre: \")\n",
        "print(f\"Hola, {nombre}.\")"
      ],
      "metadata": {
        "id": "OSjJ8laJNkCn",
        "outputId": "fa11246d-46a2-46c3-8ae6-87587bcd1386",
        "colab": {
          "base_uri": "https://localhost:8080/"
        }
      },
      "execution_count": null,
      "outputs": [
        {
          "output_type": "stream",
          "name": "stdout",
          "text": [
            "Escribe tu nombre: Camilo\n",
            "Hola, Camilo.\n"
          ]
        }
      ]
    },
    {
      "cell_type": "code",
      "source": [
        "# 2_Crea un programa que solicite al usuario que escriba su nombre y edad, y luego imprima \"Hola, [nombre], tienes [edad] años.\"\n",
        "nombre = input(\"Escribe tu nombre: \")\n",
        "edad = input(\"Escribe tu edad: \")\n",
        "print(f\"Hola, {nombre}, tienes {edad} años.\")"
      ],
      "metadata": {
        "id": "r9hFebyGN3Ys",
        "outputId": "cc9a23e9-1877-4bcb-a58e-9e5bde662a82",
        "colab": {
          "base_uri": "https://localhost:8080/"
        }
      },
      "execution_count": null,
      "outputs": [
        {
          "output_type": "stream",
          "name": "stdout",
          "text": [
            "Escribe tu nombre: Camilo\n",
            "Escribe tu edad: 26\n",
            "Hola, Camilo, tienes 26 años.\n"
          ]
        }
      ]
    },
    {
      "cell_type": "code",
      "source": [
        "#3_Crea un programa que solicite al usuario que escriba su nombre, edad y altura en metros,\n",
        "#y luego imprima \"Hola, [nombre], tienes [edad] años y mides [altura] metros.\"\n",
        "nombre = input(\"Escribe tu nombre: \")\n",
        "edad = input(\"Escribe tu edad: \")\n",
        "altura = input(\"Escribe tu altura en metros: \")\n",
        "print(f\"Hola, {nombre}, tienes {edad} años y mides {altura} metros\")"
      ],
      "metadata": {
        "id": "veDHaLW8OvPs",
        "outputId": "82306d06-4d80-4a15-c133-40d2b1e7e2b2",
        "colab": {
          "base_uri": "https://localhost:8080/"
        }
      },
      "execution_count": null,
      "outputs": [
        {
          "output_type": "stream",
          "name": "stdout",
          "text": [
            "Escribe tu nombre: Camilo\n",
            "Escribe tu edad: 26\n",
            "Escribe tu altura en metros: 1.75\n",
            "Hola, Camilo, tienes 26 años y mides 1.75 metros\n"
          ]
        }
      ]
    },
    {
      "cell_type": "markdown",
      "source": [
        "#####**Ejercicios practicos de calculadora con operadores**"
      ],
      "metadata": {
        "id": "-ihugwTwQZ1Q"
      }
    },
    {
      "cell_type": "code",
      "source": [
        "# 4_Crea un programa que solicite dos valores numéricos al usuario y luego imprima la suma de ambos valores.\n",
        "numero1 = int(input(\"Escribe el primer numero: \"))\n",
        "numero2 = int(input(\"Escribe el segundo numero: \"))\n",
        "suma = numero1 + numero2\n",
        "print(f\"La suma de los numeros es: {suma}\")"
      ],
      "metadata": {
        "id": "_fKi8z1yQRJ5",
        "outputId": "96abb7fc-c737-4087-cd23-4f26cc7ace52",
        "colab": {
          "base_uri": "https://localhost:8080/"
        }
      },
      "execution_count": null,
      "outputs": [
        {
          "output_type": "stream",
          "name": "stdout",
          "text": [
            "Escribe el primer numero: 45\n",
            "Escribe el segundo numero: 75\n",
            "La suma de los numeros es: 120\n"
          ]
        }
      ]
    },
    {
      "cell_type": "code",
      "source": [
        "# 5_Crea un programa que solicite tres valores numéricos al usuario y luego imprima la suma de los tres valores.\n",
        "numero1 = int(input(\"escribe el primer numero: \"))\n",
        "numero2 = int(input(\"escribe el segundo numero: \"))\n",
        "numero3 = int(input(\"escribe el tercer numero: \"))\n",
        "suma = numero1 + numero2 + numero3\n",
        "print(f\"La suma de los numeros es: {suma}\")"
      ],
      "metadata": {
        "id": "mDp3YQ3JQQ6-",
        "outputId": "b2d28daa-4354-4a0a-b188-a39a3b1f9b38",
        "colab": {
          "base_uri": "https://localhost:8080/"
        }
      },
      "execution_count": null,
      "outputs": [
        {
          "output_type": "stream",
          "name": "stdout",
          "text": [
            "escribe el primer numero: 2\n",
            "escribe el segundo numero: 76\n",
            "escribe el tercer numero: 157\n",
            "La suma de los numeros es: 235\n"
          ]
        }
      ]
    },
    {
      "cell_type": "code",
      "source": [
        "# 6_Crea un programa que solicite dos valores numéricos al usuario y luego imprima\n",
        "# la resta del primero menos el segundo valor.\n",
        "numero1 = int(input(\"Escribe el primer numero: \"))\n",
        "numero2 = int(input(\"Escribe el segundo numero: \"))\n",
        "resta = numero1 - numero2\n",
        "print(f\"La resta de los numeros es: {resta}\")"
      ],
      "metadata": {
        "id": "ktMFpNceRpAL",
        "outputId": "c9679bb7-666e-43f6-f434-ca39fea70095",
        "colab": {
          "base_uri": "https://localhost:8080/"
        }
      },
      "execution_count": null,
      "outputs": [
        {
          "output_type": "stream",
          "name": "stdout",
          "text": [
            "Escribe el primer numero: 15\n",
            "Escribe el segundo numero: 49\n",
            "La resta de los numeros es: -34\n"
          ]
        }
      ]
    },
    {
      "cell_type": "code",
      "source": [
        "# 7_Crea un programa que solicite dos valores numéricos al usuario y luego imprima\n",
        "# la multiplicación de los dos valores.\n",
        "numero1 = int(input(\"Escribe el primer numero: \"))\n",
        "numero2 = int(input(\"Escribe el segundo numero: \"))\n",
        "multiplicacion = numero1 * numero2\n",
        "print(f\"La multiplicacion de los numeros es: {multiplicacion}\")"
      ],
      "metadata": {
        "id": "77eSUVvMRo15",
        "outputId": "75558657-a947-4daa-f876-3e8c14609c27",
        "colab": {
          "base_uri": "https://localhost:8080/"
        }
      },
      "execution_count": null,
      "outputs": [
        {
          "output_type": "stream",
          "name": "stdout",
          "text": [
            "Escribe el primer numero: 4\n",
            "Escribe el segundo numero: 8\n",
            "La multiplicacion de los numeros es: 32\n"
          ]
        }
      ]
    },
    {
      "cell_type": "code",
      "source": [
        "# 8_Crea un programa que solicite dos valores numéricos, un numerador y un denominador,\n",
        "# y realice la división entre los dos valores. Asegúrate de que el valor del denominador no sea igual a 0.\n",
        "numerador = int(input(\"Escribe el numerador: \"))\n",
        "denominador = int(input(\"Escribe el denominador (no puede ser 0):\"))\n",
        "division = numerador / denominador\n",
        "print(f\"La division de los numeros es: {division}\")"
      ],
      "metadata": {
        "id": "lZsKvczfSI2d",
        "outputId": "567a7675-a146-4d32-b279-800f65844d8e",
        "colab": {
          "base_uri": "https://localhost:8080/"
        }
      },
      "execution_count": null,
      "outputs": [
        {
          "output_type": "stream",
          "name": "stdout",
          "text": [
            "Escribe el numerador: 5\n",
            "Escribe el denominador (no puede ser 0):2\n",
            "La division de los numeros es: 2.5\n"
          ]
        }
      ]
    },
    {
      "cell_type": "code",
      "source": [
        "# 9_Crea un programa que solicite dos valores numéricos, un operador y una potencia,\n",
        "# y realice la exponenciación entre estos dos valores.\n",
        "operador = int(input(\"Escribe el operador: \"))\n",
        "potencia = int(input(\"Escribe la potencia: \"))\n",
        "potenciacion = operador ** potencia\n",
        "print(f\"La potenciacion de los numeros es: {potenciacion}\")"
      ],
      "metadata": {
        "id": "40txc9BeS6io",
        "outputId": "f2678090-d10a-4cbf-ff8a-97d2fde19261",
        "colab": {
          "base_uri": "https://localhost:8080/"
        }
      },
      "execution_count": null,
      "outputs": [
        {
          "output_type": "stream",
          "name": "stdout",
          "text": [
            "Escribe el operador: 4\n",
            "Escribe la potencia: 7\n",
            "La potenciacion de los numeros es: 16384\n"
          ]
        }
      ]
    },
    {
      "cell_type": "code",
      "source": [
        "# 10_Crea un programa que solicite dos valores numéricos, un numerador y un denominador,\n",
        "# y realice la división entera entre los dos valores. Asegúrate de que el valor del denominador no sea igual a 0.\n",
        "numerador = int(input(\"Escribe el numerador: \"))\n",
        "denominador = int(input(\"Escribe el denominador (no puede ser 0):\"))\n",
        "division_entera = numerador // denominador\n",
        "print(f\"La division entera de los numeros es: {division_entera}\")"
      ],
      "metadata": {
        "id": "uDJto31QS6WF",
        "outputId": "e2207326-1889-4cd7-f666-80afbe4fdc96",
        "colab": {
          "base_uri": "https://localhost:8080/"
        }
      },
      "execution_count": null,
      "outputs": [
        {
          "output_type": "stream",
          "name": "stdout",
          "text": [
            "Escribe el numerador: 5\n",
            "Escribe el denominador (no puede ser 0):7\n",
            "La division entera de los numeros es: 0\n"
          ]
        }
      ]
    },
    {
      "cell_type": "code",
      "source": [
        "# 11_Crea un código que solicite las 3 notas de un estudiante e imprima el promedio de las notas.\n",
        "nota1 = int(input(\"Escribe la primera nota: \"))\n",
        "nota2 = int(input(\"Escribe la segunda nota: \"))\n",
        "nota3 = int(input(\"Escribe la tercera nota: \"))\n",
        "promedio = (nota1 + nota2 + nota3) / 3\n",
        "print(f\"El promedio de las notas es: {promedio}\")"
      ],
      "metadata": {
        "id": "WRpQ5rjOV7ws",
        "outputId": "a63727fb-6363-4f4c-f02d-0a81b0d11f12",
        "colab": {
          "base_uri": "https://localhost:8080/"
        }
      },
      "execution_count": null,
      "outputs": [
        {
          "output_type": "stream",
          "name": "stdout",
          "text": [
            "Escribe la primera nota: 10\n",
            "Escribe la segunda nota: 75\n",
            "Escribe la tercera nota: 100\n",
            "El promedio de las notas es: 61.666666666666664\n"
          ]
        }
      ]
    },
    {
      "cell_type": "code",
      "source": [
        "# 13_Crea un código que calcule e imprima el promedio ponderado de los números 5, 12, 20 y 15\n",
        "# con pesos respectivamente iguales a 1, 2, 3 y 4.\n",
        "\n",
        "numeros = [5, 12, 20, 15]\n",
        "pesos = [1, 2, 3, 4]\n",
        "\n",
        "promedio_ponderado = sum(n * p for n, p in zip(numeros, pesos)) / sum(pesos)\n",
        "\n",
        "print(f\"El promedio ponderado es: {promedio_ponderado}\")\n"
      ],
      "metadata": {
        "id": "q-HmsBrbWfR1",
        "outputId": "4748657b-a232-486c-d606-199043bddde0",
        "colab": {
          "base_uri": "https://localhost:8080/"
        }
      },
      "execution_count": null,
      "outputs": [
        {
          "output_type": "stream",
          "name": "stdout",
          "text": [
            "El promedio ponderado es: 14.9\n"
          ]
        }
      ]
    },
    {
      "cell_type": "code",
      "source": [
        "numerador = (5 * 1) + (12 * 2) + (20 * 3) + (15 * 4)\n",
        "denominador = 1 + 2 + 3 + 4\n",
        "promedio_ponderado = numerador / denominador\n",
        "print(f\"El promedio ponderado es: {promedio_ponderado}\")"
      ],
      "metadata": {
        "id": "BBJRfS4mWsTK",
        "outputId": "4fddf365-ef30-478a-a1f3-087909998406",
        "colab": {
          "base_uri": "https://localhost:8080/"
        }
      },
      "execution_count": null,
      "outputs": [
        {
          "output_type": "stream",
          "name": "stdout",
          "text": [
            "El promedio ponderado es: 14.9\n"
          ]
        }
      ]
    },
    {
      "cell_type": "markdown",
      "source": [
        "#####**Ejercicios practicos de editando textos**"
      ],
      "metadata": {
        "id": "kF6LjYS6X0MU"
      }
    },
    {
      "cell_type": "code",
      "source": [
        "# 14_Crea una variable llamada \"frase\" y asígnale una cadena de texto de tu elección. Luego, imprime la frase en pantalla.\n",
        "frase = \"Hola, mundo! Soy Camilo Sua\"\n",
        "print(frase)"
      ],
      "metadata": {
        "id": "-tgbxpmsXtIL",
        "outputId": "99a4ef50-160f-430b-e967-0e8deec09f76",
        "colab": {
          "base_uri": "https://localhost:8080/"
        }
      },
      "execution_count": null,
      "outputs": [
        {
          "output_type": "stream",
          "name": "stdout",
          "text": [
            "Hola, mundo! Soy Camilo Sua\n"
          ]
        }
      ]
    },
    {
      "cell_type": "code",
      "source": [
        "# 15_Crea un código que solicite una frase y luego imprima la frase en pantalla.\n",
        "frase = input(\"Escribe una frase: \")\n",
        "print(frase)"
      ],
      "metadata": {
        "id": "fWuH5YwZXs9O",
        "outputId": "9208b6f3-b313-4705-961a-5fb5f1f63139",
        "colab": {
          "base_uri": "https://localhost:8080/"
        }
      },
      "execution_count": null,
      "outputs": [
        {
          "output_type": "stream",
          "name": "stdout",
          "text": [
            "Escribe una frase: Solo sé que nada sé.\n",
            "Solo sé que nada sé.\n"
          ]
        }
      ]
    },
    {
      "cell_type": "code",
      "source": [
        "# 16_Crea un código que solicite una frase al usuario y luego imprima la misma frase ingresada pero en mayúsculas.\n",
        "frase = input(\"Escribe una frase: \")\n",
        "print(frase.upper())"
      ],
      "metadata": {
        "id": "5fZlSAgQYmei",
        "outputId": "90dd5300-2c8b-41e8-f6a0-cc7db1d15b2c",
        "colab": {
          "base_uri": "https://localhost:8080/"
        }
      },
      "execution_count": null,
      "outputs": [
        {
          "output_type": "stream",
          "name": "stdout",
          "text": [
            "Escribe una frase: La suerte, es el momento exacto en el que el trabajo duro se cruza con la oportunidad\n",
            "LA SUERTE, ES EL MOMENTO EXACTO EN EL QUE EL TRABAJO DURO SE CRUZA CON LA OPORTUNIDAD\n"
          ]
        }
      ]
    },
    {
      "cell_type": "code",
      "source": [
        "# 17_Crea un código que solicite una frase al usuario y luego imprima la misma frase\n",
        "# con todas las vocales \"e\" reemplazadas por la letra \"f\".\n",
        "frase = input(\"Escribe una frase: \")\n",
        "print(frase.replace(\"e\", \"f\"))"
      ],
      "metadata": {
        "id": "7fb8ZbdKYmXy",
        "outputId": "23ff2fba-b495-464b-aa35-ecc0eca52e80",
        "colab": {
          "base_uri": "https://localhost:8080/"
        }
      },
      "execution_count": null,
      "outputs": [
        {
          "output_type": "stream",
          "name": "stdout",
          "text": [
            "Escribe una frase: Solo sé que nada sé\n",
            "Solo sé quf nada sé\n"
          ]
        }
      ]
    },
    {
      "cell_type": "markdown",
      "source": [
        "# Estructuras condicionales"
      ],
      "metadata": {
        "id": "NwRaiHHHhhyl"
      }
    },
    {
      "cell_type": "code",
      "source": [
        "# Nota de aprobación entre 7 y 10 == nota de aprobación >= 7\n",
        "# Nota de reprobación es menor a 7 == nota de reprobación < 7\n",
        "\n",
        "\"\"\"\n",
        "Si la nota es mayor o igual a 7 entonces el estudiante aprueba\n",
        "Si no, entonces el estudiante reprueba\n",
        "\"\"\""
      ],
      "metadata": {
        "id": "2Eaq_5AWNZRz",
        "outputId": "cb4aa6dd-6105-4d95-d142-23a18ae717b7",
        "colab": {
          "base_uri": "https://localhost:8080/",
          "height": 35
        }
      },
      "execution_count": null,
      "outputs": [
        {
          "output_type": "execute_result",
          "data": {
            "text/plain": [
              "'\\nSi la nota es mayor o igual a 7 entonces el estudiante aprueba \\nSi no, entonces el estudiante reprueba\\n'"
            ],
            "application/vnd.google.colaboratory.intrinsic+json": {
              "type": "string"
            }
          },
          "metadata": {},
          "execution_count": 1
        }
      ]
    },
    {
      "cell_type": "code",
      "source": [],
      "metadata": {
        "id": "_cWRmDiE-m4p"
      },
      "execution_count": null,
      "outputs": []
    },
    {
      "cell_type": "markdown",
      "source": [
        "## `IF` y `ELSE`\n",
        "\n",
        "Los comandos `if` y `else` son dos estructuras condicionales. El comando `if` ejecutará el bloque de comandos en caso de que la condición citada sea  **verdadera**. El comando `else` ejecutará el bloque de comandos en el caso de que la condicional de `if` sea **falsa**."
      ],
      "metadata": {
        "id": "qXZqg9aYEhAh"
      }
    },
    {
      "cell_type": "markdown",
      "source": [
        "El comando `if` es una palabra clave en Python que significa \"si\". Este se emplea para conformar la estructura condicional, que te permite verificar si una determinada condición es verdadera o falsa e, inmediatamente después, ejecute un bloque de código específico dependiendo del resultado de la verificación. La sintaxis para usar el comando `if` es:\n",
        "\n",
        "\n",
        "\n",
        "```\n",
        "if condicion:\n",
        "    # Realiza algo\n",
        "```\n",
        "\n"
      ],
      "metadata": {
        "id": "EIhlqHXd2Gil"
      }
    },
    {
      "cell_type": "code",
      "source": [
        "if 5 > 3:\n",
        "  print('5 es mayor que 3')"
      ],
      "metadata": {
        "id": "S2S6XAFz-czM",
        "outputId": "ac4c70fb-6952-4e01-dfdc-b14dcecd122a",
        "colab": {
          "base_uri": "https://localhost:8080/"
        }
      },
      "execution_count": null,
      "outputs": [
        {
          "output_type": "stream",
          "name": "stdout",
          "text": [
            "5 es mayor que 3\n"
          ]
        }
      ]
    },
    {
      "cell_type": "code",
      "source": [
        "if 5 < 3:\n",
        "  print('5 es mayor que 3')\n",
        "print('Fin de la consulta')"
      ],
      "metadata": {
        "id": "YHkwMMyY-c1r",
        "outputId": "c7399901-f6ed-4385-97e8-ab5a55292ab7",
        "colab": {
          "base_uri": "https://localhost:8080/"
        }
      },
      "execution_count": null,
      "outputs": [
        {
          "output_type": "stream",
          "name": "stdout",
          "text": [
            "Fin de la consulta\n"
          ]
        }
      ]
    },
    {
      "cell_type": "markdown",
      "source": [
        "Ya el comando `else` en Python se usa en junción con la palabra clave `if` para formar una estructura condicional. la sintaxis para usar el `else` es:\n",
        "\n",
        "```\n",
        "if condicion:\n",
        "  # codigo en caso de que sea verdad\n",
        "else:\n",
        "  # codigo en caso de que sea falso\n",
        "```\n",
        "\n",
        "el comando `else` se ejecuta cuando la condición verificada por el `if` es evaluada como `False`."
      ],
      "metadata": {
        "id": "27RW2v_sIKct"
      }
    },
    {
      "cell_type": "code",
      "source": [
        "if 5 < 3:\n",
        "  print('5 es mayor que 3')\n",
        "else:\n",
        "  print('5 no es mayor que 3')\n",
        "print('Fin de la consulta')"
      ],
      "metadata": {
        "id": "ZTfNJd_f-aOq",
        "outputId": "23fd1a1d-0250-47af-c6f4-a7ace433e5e4",
        "colab": {
          "base_uri": "https://localhost:8080/"
        }
      },
      "execution_count": null,
      "outputs": [
        {
          "output_type": "stream",
          "name": "stdout",
          "text": [
            "5 no es mayor que 3\n",
            "Fin de la consulta\n"
          ]
        }
      ]
    },
    {
      "cell_type": "code",
      "source": [
        "# Ejemplo 1 - Mayor que\n",
        "\n",
        "edad_maria = int(input('Ingrese la edad de María: '))\n",
        "edad_beatriz = int(input('Ingrese la edad de Beatriz: '))\n",
        "\n",
        "if edad_maria > edad_beatriz:\n",
        "  print('María es mayor que Beatriz.')\n",
        "  print(f'La diferencia de edad es: {edad_maria - edad_beatriz}')\n",
        "else:\n",
        "  print('Beatriz es mayor que María.')\n",
        "  print(f'La diferencia de edad es: {edad_beatriz - edad_maria}')"
      ],
      "metadata": {
        "id": "Wh9JDMzASKiY",
        "outputId": "fa4e619e-27b8-46e8-f5fe-a936427af029",
        "colab": {
          "base_uri": "https://localhost:8080/"
        }
      },
      "execution_count": null,
      "outputs": [
        {
          "output_type": "stream",
          "name": "stdout",
          "text": [
            "Ingrese la edad de María: 18\n",
            "Ingrese la edad de Beatriz: 25\n",
            "Beatriz es mayor que María.\n",
            "La diferencia de edad es: 7\n"
          ]
        }
      ]
    },
    {
      "cell_type": "code",
      "source": [
        "# Ejemplo 2 - Menor que\n",
        "\n",
        "edad_maria = int(input('Ingrese la edad de María: '))\n",
        "edad_beatriz = int(input('Ingrese la edad de Beatriz: '))\n",
        "\n",
        "if edad_maria < edad_beatriz:\n",
        "  print('María es menor que Beatriz.')\n",
        "  print(f'La diferencia de edad es: {edad_beatriz - edad_maria}')\n",
        "else:\n",
        "  print('Beatriz es menor que María.')\n",
        "  print(f'La diferencia de edad es: {edad_maria - edad_beatriz}')\n"
      ],
      "metadata": {
        "id": "34EgSbGYSpXr",
        "outputId": "2ee3aa51-2eca-4f58-f00f-27c2c7748e0e",
        "colab": {
          "base_uri": "https://localhost:8080/"
        }
      },
      "execution_count": null,
      "outputs": [
        {
          "output_type": "stream",
          "name": "stdout",
          "text": [
            "Ingrese la edad de María: 48\n",
            "Ingrese la edad de Beatriz: 15\n",
            "Beatriz es menor que María.\n",
            "La diferencia de edad es: 33\n"
          ]
        }
      ]
    },
    {
      "cell_type": "code",
      "source": [
        "# Ejemplo 3 - Mayor o igual a (>=)\n",
        "empleados_empresa_1 = int(input('Ingrese la cantidad de empleados de la empresa 1: '))\n",
        "empleados_empresa_2 = int(input('Ingrese la cantidad de empleados de la empresa 2: '))\n",
        "\n",
        "if empleados_empresa_1 >= empleados_empresa_2:\n",
        "  print('La empresa 1 tiene una cantidad de empleados mayor o igual a la empresa 2.')\n",
        "  print(f'La diferencia de empleados es: {empleados_empresa_1 - empleados_empresa_2}')\n",
        "else:\n",
        "  print('La empresa 2 tiene una cantidad de empleados mayor a la empresa 1.')\n",
        "  print(f'La diferencia de empleados es: {empleados_empresa_2 - empleados_empresa_1}')\n"
      ],
      "metadata": {
        "id": "a0glL-FpTGSf",
        "outputId": "fd9cefeb-6385-4359-ca2d-e7d7c7518b07",
        "colab": {
          "base_uri": "https://localhost:8080/"
        }
      },
      "execution_count": null,
      "outputs": [
        {
          "output_type": "stream",
          "name": "stdout",
          "text": [
            "Ingrese la cantidad de empleados de la empresa 1: 54\n",
            "Ingrese la cantidad de empleados de la empresa 2: 75\n",
            "La empresa 2 tiene una cantidad de empleados mayor a la empresa 1.\n",
            "La diferencia de empleados es: 21\n"
          ]
        }
      ]
    },
    {
      "cell_type": "code",
      "source": [
        "# Ejemplo 4 - Menor o igual a (<=)\n",
        "empleados_empresa_1 = int(input('Ingrese la cantidad de empleados de la empresa 1: '))\n",
        "empleados_empresa_2 = int(input('Ingrese la cantidad de empleados de la empresa 2: '))\n",
        "\n",
        "if empleados_empresa_1 <= empleados_empresa_2:\n",
        "  print('La empresa 1 tiene una cantidad de empleados menor o igual a la empresa 2.')\n",
        "  print(f'La diferencia de empleados es: {empleados_empresa_2 - empleados_empresa_1}')\n",
        "else:\n",
        "  print('La empresa 2 tiene una cantidad de empleados menor a la empresa 1.')\n",
        "  print(f'La diferencia de empleados es: {empleados_empresa_1 - empleados_empresa_2}')\n"
      ],
      "metadata": {
        "id": "-KX13NI6TYlV",
        "outputId": "564077a5-2845-4b1a-9e27-ba0e078c7a48",
        "colab": {
          "base_uri": "https://localhost:8080/"
        }
      },
      "execution_count": null,
      "outputs": [
        {
          "output_type": "stream",
          "name": "stdout",
          "text": [
            "Ingrese la cantidad de empleados de la empresa 1: 45\n",
            "Ingrese la cantidad de empleados de la empresa 2: 78\n",
            "La empresa 1 tiene una cantidad de empleados menor o igual a la empresa 2.\n",
            "La diferencia de empleados es: 33\n"
          ]
        }
      ]
    },
    {
      "cell_type": "code",
      "source": [
        "# Ejemplo 5 - Igual a (==)\n",
        "libro_1 = input('Ingrese el título del 1° libro: ')\n",
        "libro_2 = input('Ingrese el título del 2° libro: ')\n",
        "\n",
        "if libro_1 == libro_2:\n",
        "  print('Los libros tienen el mismo título.')\n",
        "  print(f'El título del libro es: {libro_1}')\n",
        "else:\n",
        "  print('Los libros tienen títulos diferentes.')"
      ],
      "metadata": {
        "id": "XIxSem7QTn_m",
        "outputId": "c5875203-5543-4ce3-9c9a-59f1a9f3f8f7",
        "colab": {
          "base_uri": "https://localhost:8080/"
        }
      },
      "execution_count": null,
      "outputs": [
        {
          "output_type": "stream",
          "name": "stdout",
          "text": [
            "Ingrese el título del 1° libro: Gato negro\n",
            "Ingrese el título del 2° libro: gato negro\n",
            "Los libros tienen títulos diferentes.\n"
          ]
        }
      ]
    },
    {
      "cell_type": "code",
      "source": [
        "# Ejemplo 6 - Diferente de (!=)\n",
        "libro_1 = input('Ingrese el título del 1° libro: ')\n",
        "libro_2 = input('Ingrese el título del 2° libro: ')\n",
        "\n",
        "if libro_1 != libro_2:\n",
        "  print('Los libros tienen títulos diferentes.')\n",
        "  print(f'El título del 1° libro es: {libro_1}')\n",
        "  print(f'El título del 2° libro es: {libro_2}')\n",
        "else:\n",
        "  print('Los libros tienen el mismo título.')\n"
      ],
      "metadata": {
        "id": "ZD3vskkKT8kX",
        "outputId": "2779da30-f19a-4133-f610-4e51d149b767",
        "colab": {
          "base_uri": "https://localhost:8080/"
        }
      },
      "execution_count": null,
      "outputs": [
        {
          "output_type": "stream",
          "name": "stdout",
          "text": [
            "Ingrese el título del 1° libro: El gato negro\n",
            "Ingrese el título del 2° libro: El Gato Negro\n",
            "Los libros tienen títulos diferentes.\n",
            "El título del 1° libro es: El gato negro\n",
            "El título del 2° libro es: El Gato Negro\n"
          ]
        }
      ]
    },
    {
      "cell_type": "code",
      "source": [],
      "metadata": {
        "id": "uFQQHK5PUg__"
      },
      "execution_count": null,
      "outputs": []
    },
    {
      "cell_type": "markdown",
      "source": [
        "---\n",
        "**Situación:**\n",
        "\n",
        "Recibiremos el promedio de la nota de los estudiantes y necesitamos de un algoritmo que ejecute el análisis y determine si el estudiante fue **Aprobado** o **Reprobado**, mostrando un mensaje del resultado. Para ser aprobado, el promedio necesita ser igual o superior a 7.0."
      ],
      "metadata": {
        "id": "BqORg85XX-Nl"
      }
    },
    {
      "cell_type": "code",
      "source": [
        "nota = float(input('Ingrese la nota del estudiante: '))\n",
        "\n",
        "if nota >= 7.0:\n",
        "  print('El estudiante aprobó')\n",
        "  print(f'La nota del estudiante es: {nota}')\n",
        "else:\n",
        "  print('El estudiante reprobó')\n",
        "  print(f'La nota del estudiante es: {nota}')\n"
      ],
      "metadata": {
        "id": "UukCN4AQ-YYW",
        "outputId": "183935d3-d087-4a9b-dfda-72af38c1a03d",
        "colab": {
          "base_uri": "https://localhost:8080/"
        }
      },
      "execution_count": null,
      "outputs": [
        {
          "output_type": "stream",
          "name": "stdout",
          "text": [
            "Ingrese la nota del estudiante: 6.99999999999\n",
            "El estudiante reprobó\n",
            "La nota del estudiante es: 6.99999999999\n"
          ]
        }
      ]
    },
    {
      "cell_type": "markdown",
      "source": [
        "Ahora, nuestra institución educativa estableció que las personas que tengan el promedio entre 5.0 y 7.0 pueden participar del curso de **Recuperación** durante las vacaciones para lograr aprobar.\n",
        "\n",
        "Entonces podemos apoyarnos en un conjunto de `if`s para poder estructurar esta nueva condición."
      ],
      "metadata": {
        "id": "bD9O17HB6LUo"
      }
    },
    {
      "cell_type": "code",
      "source": [
        "nota = float(input('Ingrese la nota del estudiante: '))\n",
        "\n",
        "if nota >= 7.0:\n",
        "  print('El estudiante aprobó')\n",
        "  print(f'La nota del estudiante es: {nota}')\n",
        "if 7 > nota >= 5:\n",
        "  print('El estudiante debe recuperar')\n",
        "  print(f'La nota del estudiante es: {nota}')\n",
        "if nota < 5:\n",
        "  print('El estudiante reprobó')\n",
        "  print(f'La nota del estudiante es: {nota}')"
      ],
      "metadata": {
        "id": "G9cJ5O9--W52",
        "outputId": "4aae5162-ff75-4e92-b5ba-78a5b61c6369",
        "colab": {
          "base_uri": "https://localhost:8080/"
        }
      },
      "execution_count": null,
      "outputs": [
        {
          "output_type": "stream",
          "name": "stdout",
          "text": [
            "Ingrese la nota del estudiante: 9.5\n",
            "El estudiante aprobó\n",
            "La nota del estudiante es: 9.5\n"
          ]
        }
      ]
    },
    {
      "cell_type": "markdown",
      "source": [
        "Observa que en casos con 3 situaciones como este necesitamos definir bien nuestras condiciones. Pues, si realizamos una condición con `else` al final, este irá a considerar solamente la condición `if` inmediatamente anterior para generar la salida en caso de que el resultado de su operación lógica sea **falso** dando como resultado, dos o más ejecuciones.\n",
        "\n",
        "Por ejemplo:"
      ],
      "metadata": {
        "id": "D5e2mByjvycO"
      }
    },
    {
      "cell_type": "code",
      "source": [
        "nota = float(input('Ingrese la nota del estudiante: '))\n",
        "\n",
        "if nota >= 7.0:\n",
        "  print('El estudiante aprobó')\n",
        "  print(f'La nota del estudiante es: {nota}')\n",
        "if 7 > nota >= 5:\n",
        "  print('El estudiante debe recuperar')\n",
        "  print(f'La nota del estudiante es: {nota}')\n",
        "else:\n",
        "  print('El estudiante reprobó')\n",
        "  print(f'La nota del estudiante es: {nota}')"
      ],
      "metadata": {
        "id": "C21JmOuK-VU8",
        "outputId": "2bcfff64-8e3d-4148-b016-f7fe19a9ff28",
        "colab": {
          "base_uri": "https://localhost:8080/"
        }
      },
      "execution_count": null,
      "outputs": [
        {
          "output_type": "stream",
          "name": "stdout",
          "text": [
            "Ingrese la nota del estudiante: 8\n",
            "El estudiante aprobó\n",
            "La nota del estudiante es: 8.0\n",
            "El estudiante reprobó\n",
            "La nota del estudiante es: 8.0\n"
          ]
        }
      ]
    },
    {
      "cell_type": "markdown",
      "source": [
        "## `ELIF`\n",
        "\n",
        "El comando `elif` es una palabra clave en Python que significa \"si no, si\" y lo podemos considerar una *contracción* entre `else` e `if`. Se utiliza en conjunto con la palabra clave `if` para formar una estructura condicional en cadena."
      ],
      "metadata": {
        "id": "04T5g-7h4zWx"
      }
    },
    {
      "cell_type": "markdown",
      "source": [
        "la sintaxis para utilizar el comando `elif` es:\n",
        "\n",
        "```\n",
        "if condicion1:\n",
        "    # Realiza algo\n",
        "elif condicion2:\n",
        "    # Realiza otra cosa\n",
        "elif condicion3:\n",
        "    # Realiza otra cosa\n",
        "else:\n",
        "    # Realiza algo diferente\n",
        "```\n",
        "\n",
        "El comando `elif` permite que puedas verificar varias condiciones en cadena, economizando espacio en tu código. Si la primera condición se evalúa como `False`, el interpretador de Python evaluará la próxima condición con el `elif`. Ello continuará hasta que una condición sea evaluada como `True` o hasta que el `else` sea alcazado. Si ninguna de las condiciones es evaluada como `True`, la ejecución del código del comando `else` será iniciada."
      ],
      "metadata": {
        "id": "rNBHr5mm1Lm6"
      }
    },
    {
      "cell_type": "markdown",
      "source": [
        "Vamos a emplear el mismo caso anterior:"
      ],
      "metadata": {
        "id": "MVoykFbB4bd4"
      }
    },
    {
      "cell_type": "code",
      "source": [
        "nota = float(input('Ingrese la nota del estudiante: '))\n",
        "\n",
        "if nota >= 7.0:\n",
        "  print('El estudiante aprobó')\n",
        "  print(f'La nota del estudiante es: {nota}')\n",
        "elif 7 > nota >= 5:\n",
        "  print('El estudiante debe recuperar')\n",
        "  print(f'La nota del estudiante es: {nota}')\n",
        "else:\n",
        "  print('El estudiante reprobó')\n",
        "  print(f'La nota del estudiante es: {nota}')"
      ],
      "metadata": {
        "id": "QFamB78s-TW_",
        "outputId": "31fa2fd4-176a-494c-8853-a2e8228c30a4",
        "colab": {
          "base_uri": "https://localhost:8080/"
        }
      },
      "execution_count": null,
      "outputs": [
        {
          "output_type": "stream",
          "name": "stdout",
          "text": [
            "Ingrese la nota del estudiante: 4\n",
            "El estudiante reprobó\n",
            "La nota del estudiante es: 4.0\n"
          ]
        }
      ]
    },
    {
      "cell_type": "markdown",
      "source": [
        "## Operadores\n",
        "\n",
        "Durante la construcción de comandos a veces necesitamos de una elaboración mayor de la expresión condicional, necesitando que algunos operadores lógicos se encuentren integrados."
      ],
      "metadata": {
        "id": "Tf1wSOem6iwZ"
      }
    },
    {
      "cell_type": "markdown",
      "source": [
        "### `AND`, `OR`, `NOT`\n",
        "\n",
        "Los operadores lógicos `and`, `or` y `not` son usados para combinar expresiones lógicas en Python. Ellos son usados frecuentemente en conjunto con el comando `if` para crear estructuras condicionales más complejas.\n"
      ],
      "metadata": {
        "id": "GFIZnRWXGPWO"
      }
    },
    {
      "cell_type": "markdown",
      "source": [
        "- `AND` es usado para verificar si dos condiciones son verdaderas. La expresión lógica¹ `x and y` se evalúa como `True` tan solo si **ambas condiciones `x` y `y` son verdaderas**, y como `False` en caso contrario.\n",
        "\n",
        "- `OR` es usado para verificar si al menos una de las condiciones es verdadera. La expresión lógica `x or y` se evalúa como `True` **si al menos una de las condiciones `x` o `y` es verdadera**, y como `False` si ambas condiciones son falsas.\n",
        "\n",
        "- `NOT` es usado para **negar una condición**. La expresión lógica `not x` es evaluada como `True` si la condición x es falsa, y como `False` si la condición x es verdadera.\n",
        "\n",
        "¹ Una expresión lógica es una declaración que puede ser evaluada como verdadera o falsa. Ella se compone por operandos lógicos² y por operadores lógicos³, que son usados ​​para combinar varias expresiones lógicas en una única expresión.\n",
        "\n",
        "² Los operandos lógicos son los elementos que son comparados o evaluados en una expresión lógica. Ellos son generalmente valores verdaderos o falsos, pero también pueden ser expresiones lógicas más complejas. En Python, los operandos lógicos son los valores `True` y `False`.\n",
        "\n",
        "³ Los operadores lógicos son ls símbolos o palabras clave que son usados ​​para combinar varias expresiones lógicas en una única expresión. En Python, los operadores lógicos son `and`, `or` y `not`, bien como las palabras clave `if`, `elif` e `else`."
      ],
      "metadata": {
        "id": "Z_dgAoHXJbzB"
      }
    },
    {
      "cell_type": "markdown",
      "source": [
        "> Operadores lógicos más comunes\n",
        "\n",
        "|a|b|AND|OR|NOT|\n",
        "|-|-|-|-|-|\n",
        "|0|0|0|0|1\n",
        "|0|1|0|1|-\n",
        "|1|0|0|1|-\n",
        "|1|1|1|1|0\n"
      ],
      "metadata": {
        "id": "2E5aUogf-49u"
      }
    },
    {
      "cell_type": "code",
      "source": [
        "v = True\n",
        "f = False"
      ],
      "metadata": {
        "id": "DFKmpvmS-Pa6"
      },
      "execution_count": null,
      "outputs": []
    },
    {
      "cell_type": "code",
      "source": [
        "# AND\n",
        "if v and v:\n",
        "  print('Verdadero')\n",
        "else:\n",
        "  print('Falso')"
      ],
      "metadata": {
        "id": "W5BIrpOD-PeI",
        "outputId": "55904455-2150-4702-dbfe-8fb5b6e075d0",
        "colab": {
          "base_uri": "https://localhost:8080/"
        }
      },
      "execution_count": null,
      "outputs": [
        {
          "output_type": "stream",
          "name": "stdout",
          "text": [
            "Verdadero\n"
          ]
        }
      ]
    },
    {
      "cell_type": "code",
      "source": [
        "# OR\n",
        "if f or f:\n",
        "  print('Verdadero')\n",
        "else:\n",
        "  print('Falso')"
      ],
      "metadata": {
        "id": "fpDhYxq4-PiM",
        "outputId": "eb07f2a0-7df7-4b34-9820-f50f7f483c1d",
        "colab": {
          "base_uri": "https://localhost:8080/"
        }
      },
      "execution_count": null,
      "outputs": [
        {
          "output_type": "stream",
          "name": "stdout",
          "text": [
            "Falso\n"
          ]
        }
      ]
    },
    {
      "cell_type": "code",
      "source": [
        "# NOT\n",
        "if not f:\n",
        "  print('Verdadero')\n",
        "else:\n",
        "  print('Falso')"
      ],
      "metadata": {
        "id": "nIL-Uj5R2avT",
        "outputId": "f5299f5c-285c-460c-f514-dc61d385e740",
        "colab": {
          "base_uri": "https://localhost:8080/"
        }
      },
      "execution_count": null,
      "outputs": [
        {
          "output_type": "stream",
          "name": "stdout",
          "text": [
            "Verdadero\n"
          ]
        }
      ]
    },
    {
      "cell_type": "markdown",
      "source": [
        "### `IN`\n",
        "\n",
        "Es usado para verificar si un elemento está presente en una lista, tupla u otra colección de conjunto. La expresión `x in y` se evalúa como `True` si el elemento `x` esta presente na variávelen la variable de conjunto `y`, y como `False` en caso contrario."
      ],
      "metadata": {
        "id": "w7EXG1dhWtja"
      }
    },
    {
      "cell_type": "markdown",
      "source": [
        "Podemos verificarlo con variables de texto.\n",
        "\n",
        "---\n",
        "\n",
        "**Situación:**\n",
        "\n",
        "En la escuela nos entregaron una lista con nombres de estudiantes que fueron aprobados según el promedio del semestre, pero es necesario verificar si algunos nombres están en esa lista para confirmar que los datos estén correctos.\n",
        "\n",
        "La lista distribuida puede ser observada a continuación:\n",
        "\n",
        "```\n",
        "lista = 'Juan Pérez, María González, Pedro Rodríguez, Ana López, Carlos Martínez,\n",
        "    Laura Sánchez, José García, Elena Fernández, Luis Morales, Carmen Torres,\n",
        "    David Ruiz, Isabel Ramírez, Javier Díaz, Sara Herrera, Miguel Castro,\n",
        "    Patricia Ortega, Francisco Vargas, Marta Jiménez, Manuel Medina, Rosa Molina,\n",
        "    Alejandro Silva, Silvia Ruiz, Andrés Torres, Natalia Soto, Diego Guerrero,\n",
        "    Paula Ríos, Ricardo Navarro, Alicia Cordero, Carlos Vidal, Lorena Gómez'\n",
        "```\n",
        "\n",
        "Los nombres que necesitas verificar son los siguientes:\n",
        "\n",
        "```\n",
        "nombre_1 = 'Miguel Castro'\n",
        "nombre_2 = 'Marcelo Noguera'\n",
        "```"
      ],
      "metadata": {
        "id": "enJNp6JenQbq"
      }
    },
    {
      "cell_type": "code",
      "source": [
        "lista = 'Juan Pérez, María González, Pedro Rodríguez, Ana López, Carlos Martínez, Laura Sánchez, José García, Elena Fernández, Luis Morales, Carmen Torres, David Ruiz, Isabel Ramírez, Javier Díaz, Sara Herrera, Miguel Castro, Patricia Ortega, Francisco Vargas, Marta Jiménez, Manuel Medina, Rosa Molina, Alejandro Silva, Silvia Ruiz, Andrés Torres, Natalia Soto, Diego Guerrero, Paula Ríos, Ricardo Navarro, Alicia Cordero, Carlos Vidal, Lorena Gómez'"
      ],
      "metadata": {
        "id": "GINbG3Fa-Mnb"
      },
      "execution_count": null,
      "outputs": []
    },
    {
      "cell_type": "code",
      "source": [
        "nombre_1 = 'Miguel Castro'\n",
        "nombre_2 = 'Marcelo Noguera'"
      ],
      "metadata": {
        "id": "gPPN9BCT-Mki"
      },
      "execution_count": null,
      "outputs": []
    },
    {
      "cell_type": "code",
      "source": [
        "if nombre_1 in lista:\n",
        "  print('El estudiante aprobó' )\n",
        "else:\n",
        "  print('El estudiante reprobó')"
      ],
      "metadata": {
        "id": "hk-RhNRT-Mp7",
        "outputId": "1f6e9872-e08e-4fd6-ef1e-1966eb20c2d7",
        "colab": {
          "base_uri": "https://localhost:8080/"
        }
      },
      "execution_count": null,
      "outputs": [
        {
          "output_type": "stream",
          "name": "stdout",
          "text": [
            "El estudiante aprobó\n"
          ]
        }
      ]
    },
    {
      "cell_type": "markdown",
      "source": [
        "#####**Ejercicios practicos de estructuras condicionales**"
      ],
      "metadata": {
        "id": "lqgmOMpk4O27"
      }
    },
    {
      "cell_type": "code",
      "source": [
        "# 1.Escribe un programa que pida a la persona usuaria que proporcione dos números y muestre el número más grande.\n",
        "numero1 = int(input(\"Escriba el primero número: \"))\n",
        "numero2 = int(input(\"Escriba el segundo número: \"))\n",
        "\n",
        "if numero1 > numero2:\n",
        "  print(f\"El número más grande es: {numero1}\")\n",
        "elif numero2 > numero1:\n",
        "  print(f\"El número más grande es: {numero2}\")\n",
        "else:\n",
        "  print(f\"Ambos números son iguales\")"
      ],
      "metadata": {
        "id": "ZkES5KeN4GBk",
        "outputId": "4028118f-d90d-448d-967e-173aedc512a2",
        "colab": {
          "base_uri": "https://localhost:8080/"
        }
      },
      "execution_count": null,
      "outputs": [
        {
          "output_type": "stream",
          "name": "stdout",
          "text": [
            "Escriba el primero número: 45\n",
            "Escriba el segundo número: 654\n",
            "El número más grande es: 654\n"
          ]
        }
      ]
    },
    {
      "cell_type": "code",
      "source": [
        "# 2.Escribe un programa que solicite el porcentaje de crecimiento de producción\n",
        "# de una empresa e informe si hubo un crecimiento (porcentaje positivo) o una disminución (porcentaje negativo).\n",
        "porcentaje_crecimiento = float(input(\"Ingrese el porcentaje de crecimiento de producción de la empresa para el periodo 2025: \"))\n",
        "\n",
        "if porcentaje_crecimiento > 0:\n",
        "  print(\"Hubo un crecimiento en la producción de la empresa para el año 2025.\")\n",
        "elif porcentaje_crecimiento < 0:\n",
        "  print(\"Hubo una disminución en la producción de la empresa para el año 2025.\")\n",
        "else:\n",
        "    print('No hubo crecimiento ni decrecimiento.')"
      ],
      "metadata": {
        "id": "xcx21IGT9qA0",
        "outputId": "a3783166-d574-4b8d-b978-f59360a96203",
        "colab": {
          "base_uri": "https://localhost:8080/"
        }
      },
      "execution_count": null,
      "outputs": [
        {
          "output_type": "stream",
          "name": "stdout",
          "text": [
            "Ingrese el porcentaje de crecimiento de producción de la empresa para el periodo 2025: 4\n",
            "Hubo un crecimiento en la producción de la empresa para el año 2025.\n"
          ]
        }
      ]
    },
    {
      "cell_type": "code",
      "source": [
        "# 3.Escribe un programa que determine si una letra proporcionada por la persona usuaria es una vocal o una consonante.\n",
        "letra = input(\"Ingrese una letra:\")\n",
        "\n",
        "if letra in \"AEIOUaeiou\":\n",
        "  print(\"Es una vocal\")\n",
        "else:\n",
        "  print(\"Es una consonante\")"
      ],
      "metadata": {
        "id": "_ngm5jZR50bZ",
        "outputId": "31138f20-9413-4f81-cd95-e5bc16d04c70",
        "colab": {
          "base_uri": "https://localhost:8080/"
        }
      },
      "execution_count": null,
      "outputs": [
        {
          "output_type": "stream",
          "name": "stdout",
          "text": [
            "Ingrese una letra:g\n",
            "Es una consonante\n"
          ]
        }
      ]
    },
    {
      "cell_type": "code",
      "source": [
        "# 4.Escribe un programa que lea valores promedio de precios de un modelo de automóvil\n",
        "# durante 3 años consecutivos y muestre el valor más alto y más bajo entre esos tres años.\n",
        "precio1 = float(input(\"Ingrese el valor del primero año: \"))\n",
        "precio2 = float(input(\"Ingrese el valor del segundo año: \"))\n",
        "precio3 = float(input(\"Ingrese el valor del tercer año: \"))\n",
        "\n",
        "if precio1 > precio2 and precio1 > precio3:\n",
        "  print(f\"El valor mas alto es: {precio1}\")\n",
        "elif precio2 > precio1 and precio2 > precio3:\n",
        "  print(f\"El valor mas alto es: {precio2}\")\n",
        "else:\n",
        "  print(f\"El valor mas alto es: {precio3}\")\n",
        "\n",
        "if precio1 < precio2 and precio1 < precio3:\n",
        "  print(f\"El valor mas bajo es: {precio1}\")\n",
        "elif precio2 < precio1 and precio2 < precio3:\n",
        "  print(f\"El valor mas bajo es: {precio2}\")\n",
        "else:\n",
        "  print(f\"El valor mas bajo es: {precio3}\")\n"
      ],
      "metadata": {
        "id": "QAY7LOtH6YZn",
        "outputId": "2ef704a8-e883-4bc8-fcc6-af9dc53e31b6",
        "colab": {
          "base_uri": "https://localhost:8080/"
        }
      },
      "execution_count": null,
      "outputs": [
        {
          "output_type": "stream",
          "name": "stdout",
          "text": [
            "Ingrese el valor del primero año: 45\n",
            "Ingrese el valor del segundo año: 7\n",
            "Ingrese el valor del tercer año: 48\n",
            "El valor mas alto es: 48.0\n",
            "El valor mas bajo es: 7.0\n"
          ]
        }
      ]
    },
    {
      "cell_type": "code",
      "source": [
        "# 5.Escribe un programa que pregunte sobre el precio de tres productos\n",
        "# e indique cuál es el producto más barato para comprar.\n",
        "precio_producto1 = float(input(\"Ingrese el precio del primer producto: \"))\n",
        "precio_producto2 = float(input(\"Ingrese el precio del segundo producto: \"))\n",
        "precio_producto3 = float(input(\"Ingrese el precio del tercer producto: \"))\n",
        "\n",
        "if precio_producto1 < precio_producto2 and precio_producto1 < precio_producto3:\n",
        "  print(\"El primer producto es el más barato.\")\n",
        "if precio_producto2 < precio_producto1 and precio_producto2 < precio_producto3:\n",
        "  print(\"El segundo producto es el más barato.\")\n",
        "else:\n",
        "  print(\"El tercer producto es el más barato.\")"
      ],
      "metadata": {
        "id": "2y9ZGb8E7zGP",
        "outputId": "af2e5a3a-4a35-460d-d746-b2f0d31ff3d5",
        "colab": {
          "base_uri": "https://localhost:8080/"
        }
      },
      "execution_count": null,
      "outputs": [
        {
          "output_type": "stream",
          "name": "stdout",
          "text": [
            "Ingrese el precio del primer producto: 75\n",
            "Ingrese el precio del segundo producto: 48\n",
            "Ingrese el precio del tercer producto: 35\n",
            "El tercer producto es el más barato.\n"
          ]
        }
      ]
    },
    {
      "cell_type": "code",
      "source": [
        "# 6.Escribe un programa que lea tres números y los muestre en orden descendente.\n",
        "n1 = int(input(\"Ingrese el primer número: \"))\n",
        "n2 = int(input(\"Ingrese el segundo número: \"))\n",
        "n3 = int(input(\"Ingrese el tercer número: \"))\n",
        "\n",
        "if n1 >= n2 and n1 >= n3:\n",
        "  if n2 >= n3:\n",
        "    print(n1, n2, n3)\n",
        "  else:\n",
        "    print(n1, n3, n2)\n",
        "if n2 >= n1 and n2 >= n3:\n",
        "  if n1 >= n3:\n",
        "    print(n2, n1, n3)\n",
        "  else:\n",
        "    print(n2, n3, n1)\n",
        "if n3 >= n1 and n3 >= n2:\n",
        "  if n1 >= n2:\n",
        "    print(n3, n1, n2)\n",
        "  else:\n",
        "    print(n3, n2, n1)"
      ],
      "metadata": {
        "id": "-NQZcMf0-fL0",
        "outputId": "448d5c94-6719-48aa-a74b-7c82db85fba2",
        "colab": {
          "base_uri": "https://localhost:8080/"
        }
      },
      "execution_count": null,
      "outputs": [
        {
          "output_type": "stream",
          "name": "stdout",
          "text": [
            "Ingrese el primer número: 7\n",
            "Ingrese el segundo número: 84\n",
            "Ingrese el tercer número: 150\n",
            "150 84 7\n"
          ]
        }
      ]
    },
    {
      "cell_type": "code",
      "source": [
        "# 7.Escribe un programa que pregunte en qué turno estudia la persona usuaria\n",
        " #(\"mañana\", \"tarde\" o \"noche\") y muestre el mensaje \"¡Buenos Días!\", \"¡Buenas Tardes!\",\n",
        " #\"¡Buenas Noches!\" o \"Valor Inválido!\", según el caso.\n",
        "\n",
        "turno = input(\"Ingrese en que turno estudia la persona usuaria: \")\n",
        "\n",
        "if turno == \"mañana\" or turno == \"Mañana\":\n",
        "  print(\"¡Buenos días!\")\n",
        "elif turno == \"tarde\" or turno == \"Tarde\":\n",
        "  print(\"¡Buenas tardes!\")\n",
        "elif turno == \"noche\" or turno == \"Noche\":\n",
        "  print(\"¡Buenas noches!\")\n",
        "else:\n",
        "  print(\"Valor inválido\")\n"
      ],
      "metadata": {
        "id": "f_bpDdla74xX",
        "outputId": "0067bafe-dce0-4dee-8696-995daca5f55a",
        "colab": {
          "base_uri": "https://localhost:8080/"
        }
      },
      "execution_count": null,
      "outputs": [
        {
          "output_type": "stream",
          "name": "stdout",
          "text": [
            "Ingrese en que turno estudia la persona usuaria: tarde\n",
            "¡Buenas tardes!\n"
          ]
        }
      ]
    },
    {
      "cell_type": "code",
      "source": [
        "# 8.Escribe un programa que solicite un número entero a la persona usuaria y\n",
        "  #determine si es par o impar. Pista: Puedes usar el operador módulo (%).\n",
        "\n",
        "numero = int(input(\"Ingrese un número entero: \"))\n",
        "\n",
        "if numero % 2 == 0:\n",
        "  print(\"El número es par\")\n",
        "else:\n",
        "  print(\"El número es impar\")"
      ],
      "metadata": {
        "id": "DIh_qrzD74gQ",
        "outputId": "135c768c-d964-433e-f2a0-44ada5169499",
        "colab": {
          "base_uri": "https://localhost:8080/"
        }
      },
      "execution_count": null,
      "outputs": [
        {
          "output_type": "stream",
          "name": "stdout",
          "text": [
            "Ingrese un número entero: 100\n",
            "El número es par\n"
          ]
        }
      ]
    },
    {
      "cell_type": "code",
      "source": [
        "# 9.Escribe un programa que pida un número a la persona usuaria y le informe si es entero o decimal.\n",
        "\n",
        "numero = float(input(\"Ingrese un número: \"))\n",
        "\n",
        "if numero.is_integer():\n",
        "  print(\"El número es entero\")\n",
        "else:\n",
        "  print(\"El número es decimal\")"
      ],
      "metadata": {
        "id": "qTjageIO--lK",
        "outputId": "7e01bca7-8a80-4d8d-f6b2-b1495a350329",
        "colab": {
          "base_uri": "https://localhost:8080/"
        }
      },
      "execution_count": null,
      "outputs": [
        {
          "output_type": "stream",
          "name": "stdout",
          "text": [
            "Ingrese un número: 1.5\n",
            "El número es decimal\n"
          ]
        }
      ]
    },
    {
      "cell_type": "markdown",
      "source": [
        "#####**Momento de proyectos**"
      ],
      "metadata": {
        "id": "H5dTisEY_OVS"
      }
    },
    {
      "cell_type": "code",
      "source": [
        "# 10 - Un programa debe ser escrito para leer dos números y luego preguntar a la\n",
        "  #persona usuaria qué operación desea realizar. El resultado de la operación debe\n",
        "  #incluir información sobre el número, si es par o impar, positivo o negativo, e entero o decimal.\n",
        "numero1= float(input(\"Ingrese el primer número: \"))\n",
        "numero2= float(input(\"Ingrese el segundo número: \"))\n",
        "operacion = input(\"¿Qué operación desea realizar? (+, -, *, /): \")\n",
        "\n",
        "if operacion == \"+\":\n",
        "  resultado = numero1 + numero2\n",
        "elif operacion == \"-\":\n",
        "  resultado = numero1 - numero2\n",
        "elif operacion == \"*\":\n",
        "  resultado = numero1 * numero2\n",
        "elif operacion == \"/\":\n",
        "  resultado = numero1 / numero2\n",
        "else:\n",
        "  print(\"Operación inválida\")\n",
        "  resultado = 0\n",
        "\n",
        "print(f\"El resultado de la operación es: {resultado}\")\n",
        "\n",
        "if resultado % 2 == 0:\n",
        "  print(\"El resultado es par\")\n",
        "else:\n",
        "  print(\"El resultado es impar\")\n",
        "\n",
        "if resultado % 1 == 0:\n",
        "  print(\"El resultado es entero\")\n",
        "else:\n",
        "  print(\"El resultado es decimal\")\n",
        "\n",
        "if resultado > 0:\n",
        "  print(\"El resultado es positivo\")\n",
        "elif resultado < 0:\n",
        "  print(\"El resultado es negativo\")"
      ],
      "metadata": {
        "id": "zUU1TEYHKdrw",
        "outputId": "f6b7fbf3-4a37-44a8-e72c-d500bdf19356",
        "colab": {
          "base_uri": "https://localhost:8080/"
        }
      },
      "execution_count": null,
      "outputs": [
        {
          "output_type": "stream",
          "name": "stdout",
          "text": [
            "Ingrese el primer número: 45\n",
            "Ingrese el segundo número: 54\n",
            "¿Qué operación desea realizar? (+, -, *, /): /\n",
            "El resultado de la operación es: 0.8333333333333334\n",
            "El resultado es impar\n",
            "El resultado es decimal\n",
            "El resultado es positivo\n"
          ]
        }
      ]
    },
    {
      "cell_type": "code",
      "source": [
        "# 11.Escribe un programa que pida a la persona usuaria tres números que representan\n",
        " #los lados de un triángulo. El programa debe informar si los valores pueden utilizarse\n",
        " #para formar un triángulo y, en caso afirmativo, si es equilátero, isósceles o escaleno.\n",
        " #Ten en cuenta algunas sugerencias:\n",
        "    #Tres lados forman un triángulo cuando la suma de cualesquiera dos lados es mayor que el tercero;\n",
        "    #Triángulo Equilátero: tres lados iguales;\n",
        "    #Triángulo Isósceles: dos lados iguales;\n",
        "    #Triángulo Escaleno: tres lados diferentes.\n",
        "\n",
        "print(\"Vamos a construir un triángulo\")\n",
        "lado1 = float(input(\"Ingrese la medida del primer lado: \"))\n",
        "lado2 = float(input(\"Ingrese la mediada del segundo lado: \"))\n",
        "lado3 = float(input(\"Ingrese la medida del tercer lado: \"))\n",
        "\n",
        "if (lado1 + lado2 > lado3) or (lado1 + lado3 > lado2) or (lado2 + lado3 > lado1):\n",
        "  print(\"Los valores pueden utilizarse para formar el triángulo\")\n",
        "\n",
        "  if lado1 == lado2 == lado3:\n",
        "    print(\"El triángulo es equilátero\")\n",
        "\n",
        "  elif lado1 == lado2 or lado1 == lado3 or lado2 == lado3:\n",
        "    print(\"El triángulo es isósceles\")\n",
        "\n",
        "  else:\n",
        "    print(\"El triángulo es escaleno\")\n",
        "\n",
        "else:\n",
        "  print(\"Los valores no pueden utilizarse para formar un triángulo\")"
      ],
      "metadata": {
        "id": "9IPghEMBLkYu",
        "outputId": "6e174c45-bd46-4ced-fc4b-e2c6c3f6f248",
        "colab": {
          "base_uri": "https://localhost:8080/"
        }
      },
      "execution_count": null,
      "outputs": [
        {
          "output_type": "stream",
          "name": "stdout",
          "text": [
            "Vamos a construir un triángulo\n",
            "Ingrese la medida del primer lado: 15\n",
            "Ingrese la mediada del segundo lado: 15\n",
            "Ingrese la medida del tercer lado: 45\n",
            "Los valores pueden utilizarse para formar el triángulo\n",
            "El triángulo es isósceles\n"
          ]
        }
      ]
    },
    {
      "cell_type": "code",
      "source": [
        "# 12.Un establecimiento está vendiendo combustibles con descuentos variables.\n",
        "  # Para el etanol, si la cantidad comprada es de hasta 15 litros, el descuento\n",
        "  # será del 2% por litro. En caso contrario, será del 4% por litro.\n",
        "  # Para el diésel, si la cantidad comprada es de hasta 15 litros, el descuento será del 3% por litro.\n",
        "  # En caso contrario, será del 5% por litro.\n",
        "  # El precio por litro de diésel es de R$ 2,00 y el precio por litro de etanol es de R$ 1,70.\n",
        "  # Escribe un programa que lea la cantidad de litros vendidos y el tipo de combustible (E para etanol y D para diésel)\n",
        "  # y calcule el valor a pagar por el cliente. Ten en cuenta algunas sugerencias:\n",
        "    # El valor del descuento será el producto del precio por litro,\n",
        "      #la cantidad de litros y el valor del descuento.\n",
        "    # El valor a pagar por un cliente será el resultado de la multiplicación del\n",
        "      #precio por litro por la cantidad de litros menos el valor del descuento resultante del cálculo.\n",
        "\n",
        "cantidad_vendida = float(input(\"Ingrese la cantidad de litros vendidos: \"))\n",
        "tipo_combustible = input(\"Ingrese el tipo de combustible (E para etanol y D para diesel): \")\n",
        "\n",
        "if tipo_combustible == \"E\":\n",
        "  precio_litro = 1.70\n",
        "  if cantidad_vendida <= 15:\n",
        "    descuento = 0.02\n",
        "  else:\n",
        "    descuento = 0.04\n",
        "\n",
        "if tipo_combustible == \"D\":\n",
        "  precio_litro = 2.00\n",
        "  if cantidad_vendida <= 15:\n",
        "    descuento = 0.03\n",
        "  else:\n",
        "    descuento = 0.05\n",
        "\n",
        "else:\n",
        "  print(\"Tipo de combustible inválido\")\n",
        "  precio_litro = 0\n",
        "  descuento = 0\n",
        "\n",
        "valor_total = precio_litro * cantidad_vendida\n",
        "print(f\"El valor total a pagar es: {valor_total}\")\n",
        "\n",
        "valor_descuento = precio_litro * cantidad_vendida * descuento\n",
        "print(f\"El valor del descuento es: {valor_descuento}\")\n",
        "\n",
        "valor_a_pagar = precio_litro * cantidad_vendida - valor_descuento\n",
        "print(f\"El valor a pagar por el cliente es: {valor_a_pagar}\")"
      ],
      "metadata": {
        "id": "Su9Uhi-lEbWX",
        "outputId": "d63eb506-cd47-48db-f23c-f0414aa54529",
        "colab": {
          "base_uri": "https://localhost:8080/"
        }
      },
      "execution_count": null,
      "outputs": [
        {
          "output_type": "stream",
          "name": "stdout",
          "text": [
            "Ingrese la cantidad de litros vendidos: 45\n",
            "Ingrese el tipo de combustible (E para etanol y D para diesel): D\n",
            "El valor total a pagar es: 90.0\n",
            "El valor del descuento es: 4.5\n",
            "El valor a pagar por el cliente es: 85.5\n"
          ]
        }
      ]
    },
    {
      "cell_type": "code",
      "source": [
        "# 13.En una empresa de venta de bienes raíces, debes crear un código que analice\n",
        "  #los datos de ventas anuales para ayudar a la dirección en la toma de decisiones.\n",
        "  #El código debe recopilar los datos de cantidad de ventas durante los años 2022 y 2023;\n",
        "  #calcular la variación porcentual. A partir del valor de la variación, se deben proporcionar las siguientes sugerencias:\n",
        "    #Para una variación superior al 20%: bonificación para el equipo de ventas.\n",
        "    #Para una variación entre el 2% y el 20%: pequeña bonificación para el equipo de ventas.\n",
        "    #Para una variación entre el 2% y el -10%: planificación de políticas de incentivo a las ventas.\n",
        "    #Para bonificaciones inferiores al -10%: recorte de gastos.\n",
        "\n",
        "ventas_2022 = float(input(\"Ingrese la cantidad de ventas del año 2022: \"))\n",
        "ventas_2023 = float(input(\"Ingrese la cantidad de ventas del año 2023: \"))\n",
        "\n",
        "variacion_porcentual = ((ventas_2023 - ventas_2022) / ventas_2022) * 100\n",
        "print(f\"La variación porcentual es: {variacion_porcentual}\")\n",
        "\n",
        "if variacion_porcentual > 20:\n",
        "  print(\"Bonificación para el equipo de ventas\")\n",
        "elif variacion_porcentual >= 2 and variacion_porcentual <= 20:\n",
        "  print(\"Pequeña bonificación para el equipo de ventas\")\n",
        "elif variacion_porcentual >= -10 and variacion_porcentual < 2:\n",
        "  print(\"Planificación de políticas de incentivo a las ventas\")\n",
        "else:\n",
        "  print(\"Recorte de gastos\")"
      ],
      "metadata": {
        "id": "DRQIYhFmNLdK",
        "outputId": "bec6922e-ea9e-40ec-8a6e-b0fef86908dd",
        "colab": {
          "base_uri": "https://localhost:8080/"
        }
      },
      "execution_count": null,
      "outputs": [
        {
          "output_type": "stream",
          "name": "stdout",
          "text": [
            "Ingrese la cantidad de ventas del año 2022: 45\n",
            "Ingrese la cantidad de ventas del año 2023: 72\n",
            "La variación porcentual es: 60.0\n",
            "Bonificación para el equipo de ventas\n"
          ]
        }
      ]
    },
    {
      "cell_type": "markdown",
      "source": [
        "# Estructuras de repetición"
      ],
      "metadata": {
        "id": "aL1vJPewvwvz"
      }
    },
    {
      "cell_type": "markdown",
      "source": [
        "Cuando tenemos que ejecutar un mismo bloque de comandos durante varias ocasiones no es nada práctico hacerlo a mano.\n",
        "\n",
        "**Situación**: Nos fue solicitado obtener e imprimir el promedio de 2 notas de **3 estudantes**:"
      ],
      "metadata": {
        "id": "VcPfCa8d-84t"
      }
    },
    {
      "cell_type": "code",
      "source": [
        "nota1 = float(input('ingrese la nota 1 del estudiante 1: '))\n",
        "nota2 = float(input('ingrese la nota 2 del estudiante 1: '))\n",
        "print(f'El promdeio del estudiante 1 es: {(nota1 + nota2) / 2}')\n",
        "\n",
        "nota1 = float(input('ingrese la nota 1 del estudiante 2: '))\n",
        "nota2 = float(input('ingrese la nota 2 del estudiante 2: '))\n",
        "print(f'El promdeio del estudiante 2 es: {(nota1 + nota2) / 2}')\n",
        "\n",
        "nota1 = float(input('ingrese la nota 1 del estudiante 3: '))\n",
        "nota2 = float(input('ingrese la nota 2 del estudiante 3: '))\n",
        "print(f'El promdeio del estudiante 3 es: {(nota1 + nota2) / 2}')"
      ],
      "metadata": {
        "id": "Yfyz4anY9rIr",
        "outputId": "32f08f6f-6009-44c5-dccb-536b94a0345b",
        "colab": {
          "base_uri": "https://localhost:8080/"
        }
      },
      "execution_count": 2,
      "outputs": [
        {
          "output_type": "stream",
          "name": "stdout",
          "text": [
            "ingrese la nota 1 del estudiante 1: 5\n",
            "ingrese la nota 2 del estudiante 1: 6\n",
            "El promdeio del estudiante 1 es: 5.5\n",
            "ingrese la nota 1 del estudiante 2: 4\n",
            "ingrese la nota 2 del estudiante 2: 10\n",
            "El promdeio del estudiante 2 es: 7.0\n",
            "ingrese la nota 1 del estudiante 3: 8\n",
            "ingrese la nota 2 del estudiante 3: 9\n",
            "El promdeio del estudiante 3 es: 8.5\n"
          ]
        }
      ]
    },
    {
      "cell_type": "markdown",
      "source": [
        "Ahora imaginemos una situación en que no son tan solo 3 estudiantes, sino 100 estudiantes. No sería nada interesante repetir el mismo código 100 veces, sino **ejecutar el mismo código 100 veces**.\n",
        "\n",
        "¡Esta estructura la logramos construir con lazos de repetición!"
      ],
      "metadata": {
        "id": "9puIuvUbFSFX"
      }
    },
    {
      "cell_type": "markdown",
      "source": [
        "## `WHILE`"
      ],
      "metadata": {
        "id": "uLO9-aE4-wx8"
      }
    },
    {
      "cell_type": "markdown",
      "source": [
        "El lazo `while` es una estructura de control de repetición en Python que permite ejecutar un bloque de código repetidamente mientras que una determinada condición sea verdadera. Su estructura es:\n",
        "\n",
        "\n",
        "\n",
        "```\n",
        "while condicion:\n",
        "    # bloque de codigo\n",
        "```\n",
        "\n",
        "Vamos a construir un ejemplo con un contador de 1 hasta 10.\n"
      ],
      "metadata": {
        "id": "rXZxDMiqHxm9"
      }
    },
    {
      "cell_type": "code",
      "source": [
        "contador = 1\n",
        "while contador <= 10:\n",
        "  print(contador)\n",
        "  contador += 1\n"
      ],
      "metadata": {
        "id": "Hd0ZSWxD9wCD",
        "outputId": "744c54d2-7894-4c01-a1d6-68226ba70ad2",
        "colab": {
          "base_uri": "https://localhost:8080/"
        }
      },
      "execution_count": 3,
      "outputs": [
        {
          "output_type": "stream",
          "name": "stdout",
          "text": [
            "1\n",
            "2\n",
            "3\n",
            "4\n",
            "5\n",
            "6\n",
            "7\n",
            "8\n",
            "9\n",
            "10\n"
          ]
        }
      ]
    },
    {
      "cell_type": "markdown",
      "source": [
        "Ahora vamos a colectar las notas y promedios de cada alumno dentro del lazo `while`. Haremos un ejemplo con 3 promedios."
      ],
      "metadata": {
        "id": "W4KZPBJuIrut"
      }
    },
    {
      "cell_type": "code",
      "source": [
        "contador = 1\n",
        "while contador <= 3:\n",
        "  nota1 = float(input('ingrese la nota 1 del estudiante: '))\n",
        "  nota2 = float(input('ingrese la nota 2 del estudiante: '))\n",
        "  print(f'El promedio del estudiante es: {(nota1 + nota2)/2}')\n",
        "  contador += 1\n"
      ],
      "metadata": {
        "id": "9T5eCLFx9wk6",
        "outputId": "f45698d2-e405-4dfe-815a-6b1eb1ecb49b",
        "colab": {
          "base_uri": "https://localhost:8080/"
        }
      },
      "execution_count": 7,
      "outputs": [
        {
          "output_type": "stream",
          "name": "stdout",
          "text": [
            "ingrese la nota 1 del estudiante: 5\n",
            "ingrese la nota 2 del estudiante: 8\n",
            "El promedio del estudiante es: 6.5\n",
            "ingrese la nota 1 del estudiante: 4.8\n",
            "ingrese la nota 2 del estudiante: 7\n",
            "El promedio del estudiante es: 5.9\n",
            "ingrese la nota 1 del estudiante: 9.5\n",
            "ingrese la nota 2 del estudiante: 8.9\n",
            "El promedio del estudiante es: 9.2\n"
          ]
        }
      ]
    },
    {
      "cell_type": "markdown",
      "source": [
        "## `FOR`"
      ],
      "metadata": {
        "id": "WgAIaENMMfCP"
      }
    },
    {
      "cell_type": "markdown",
      "source": [
        "El lazo `for` es un tipo de estructura de control de flujo en Python que permite iterar sobre un conjunto de elementos. Su estructura es:\n",
        "\n",
        "\n",
        "\n",
        "```\n",
        "for elemento in conjunto:\n",
        "    # codigo a ser ejecutado para cada elemento\n",
        "```\n",
        "\n",
        "El lazo `for` itera sobre cada elemento del conjunto especificado y ejecuta el bloque de código dentro del lazo para cada elemento. Cuando el lazo llega al final del conjunto, este se interrumpe y el programa continúa la ejecución después del lazo.\n",
        "\n"
      ],
      "metadata": {
        "id": "HxrSZoRAMh-x"
      }
    },
    {
      "cell_type": "markdown",
      "source": [
        "El conjunto lo podemos generar con la función incorporada [`range()`](https://docs.python.org/3/library/functions.html#func-range). Se trata de una función capaz de generar una secuencia de números enteros. La estructura de esta función es:\n",
        "\n",
        "```\n",
        "range(inicio, fin, paso)\n",
        "```\n",
        "\n",
        "Según la documentación, `range()` genera una secuencia de números enteros a partir del valor del parámetro `inicio` hasta el valor del parámetro `fin`, de acuerdo con el valor del parámetro `paso`. Si `inicio` no es especificado, el valor por defecto es `0`. Si `paso` no es especificado, el valor por defecto es `1`.\n",
        "\n",
        "\n"
      ],
      "metadata": {
        "id": "6VgjyoQtPHBM"
      }
    },
    {
      "cell_type": "markdown",
      "source": [
        "Vamos a recrear el mismo contador `while` con el lazo `for`."
      ],
      "metadata": {
        "id": "ryn0hfdlUwC8"
      }
    },
    {
      "cell_type": "code",
      "source": [
        "for contador in range(1,11):\n",
        "  print(contador)"
      ],
      "metadata": {
        "id": "KkL1wUIj9jL4",
        "outputId": "2f0ccf49-1afb-4032-f3d5-72bc1d25da7c",
        "colab": {
          "base_uri": "https://localhost:8080/"
        }
      },
      "execution_count": 9,
      "outputs": [
        {
          "output_type": "stream",
          "name": "stdout",
          "text": [
            "1\n",
            "2\n",
            "3\n",
            "4\n",
            "5\n",
            "6\n",
            "7\n",
            "8\n",
            "9\n",
            "10\n"
          ]
        }
      ]
    },
    {
      "cell_type": "code",
      "source": [
        "for contador in range(1,4):\n",
        "  nota1 = float(input('ingrese la nota 1 del estudiante: '))\n",
        "  nota2 = float(input('ingrese la nota 2 del estudiante: '))\n",
        "  print(f'El promedio del estudiante es: {(nota1 + nota2)/2}')\n",
        ""
      ],
      "metadata": {
        "id": "Ahtf9KyWNPqh",
        "outputId": "7790e7b5-0414-4ad3-f98d-4099b3f600f5",
        "colab": {
          "base_uri": "https://localhost:8080/"
        }
      },
      "execution_count": 11,
      "outputs": [
        {
          "output_type": "stream",
          "name": "stdout",
          "text": [
            "ingrese la nota 1 del estudiante: 45\n",
            "ingrese la nota 2 del estudiante: 45\n",
            "El promedio del estudiante es: 45.0\n",
            "ingrese la nota 1 del estudiante: 48\n",
            "ingrese la nota 2 del estudiante: 59\n",
            "El promedio del estudiante es: 53.5\n",
            "ingrese la nota 1 del estudiante: 75\n",
            "ingrese la nota 2 del estudiante: 86\n",
            "El promedio del estudiante es: 80.5\n"
          ]
        }
      ]
    },
    {
      "cell_type": "markdown",
      "source": [
        "Comandos de control: continue y break"
      ],
      "metadata": {
        "id": "V3J-mOi0PGe_"
      }
    },
    {
      "cell_type": "code",
      "source": [
        "for i in range(1, 6):\n",
        "    if i == 4:\n",
        "        continue\n",
        "    print(i)\n",
        "\n",
        "#Este código imprime todos los números del 1 al 5, excepto el 4. Cuando el valor de i es 4,\n",
        "#continue salta a la siguiente iteración, omitiendo la instrucción print después de la condición en la iteración actual."
      ],
      "metadata": {
        "id": "jSquqN15PLlJ",
        "outputId": "41d502bf-e417-43f3-fe9d-75a1328efecc",
        "colab": {
          "base_uri": "https://localhost:8080/"
        }
      },
      "execution_count": 13,
      "outputs": [
        {
          "output_type": "stream",
          "name": "stdout",
          "text": [
            "1\n",
            "2\n",
            "3\n",
            "5\n"
          ]
        }
      ]
    },
    {
      "cell_type": "code",
      "source": [
        "for i in range(1, 6):\n",
        "    if i == 4:\n",
        "        break\n",
        "    print(i)\n",
        "\n",
        "#break detiene por completo la ejecución del bucle, saliendo del bloque de código."
      ],
      "metadata": {
        "id": "5cSiKH06PEEL",
        "outputId": "28dc4bec-fb4c-4267-a78a-18cffed02505",
        "colab": {
          "base_uri": "https://localhost:8080/"
        }
      },
      "execution_count": 14,
      "outputs": [
        {
          "output_type": "stream",
          "name": "stdout",
          "text": [
            "1\n",
            "2\n",
            "3\n"
          ]
        }
      ]
    },
    {
      "cell_type": "markdown",
      "source": [
        "#####**Ejercicios practicos de estructuras de repetición**"
      ],
      "metadata": {
        "id": "i5flkJiJQMKW"
      }
    },
    {
      "cell_type": "code",
      "source": [
        "# 1.Escribe un programa que solicite dos números enteros e imprima todos los números enteros entre ellos.\n",
        "\n",
        "#Recoleccion de los numeros\n",
        "numero1 = int(input(\"Ingrese el primer número entero: \"))\n",
        "numero2 = int(input(\"Ingrese el segundo número entero: \"))\n",
        "\n",
        "#Verificacion si el numero 1 es mayor que el numero 2\n",
        "if numero1 < numero2:\n",
        "  for i in range(numero1 + 1, numero2):\n",
        "    print(i)\n",
        "#Verificacion si el numero 2 es mayor que el numero 1\n",
        "elif numero1 > numero2:\n",
        "  for i in range(numero2 + 1, numero1):\n",
        "    print(i)\n",
        "#En caso de que los numeros sean iguales\n",
        "else:\n",
        "  print(\"Los números son iguales\")\n",
        ""
      ],
      "metadata": {
        "id": "3KKV5BHmQOL9",
        "outputId": "048bb85d-b55b-4d26-f3fd-e07bdf4dff64",
        "colab": {
          "base_uri": "https://localhost:8080/"
        }
      },
      "execution_count": 19,
      "outputs": [
        {
          "output_type": "stream",
          "name": "stdout",
          "text": [
            "Ingrese el primer número entero: 9\n",
            "Ingrese el segundo número entero: 5\n",
            "6\n",
            "7\n",
            "8\n"
          ]
        }
      ]
    },
    {
      "cell_type": "code",
      "source": [
        "# 2.Escribe un programa para calcular cuántos días tomará que la colonia de una\n",
        "#bacteria A supere o iguale a la colonia de una bacteria B, basado en tasas de\n",
        "#crecimiento del 3% y 1.5%, respectivamente. Supón que la colonia A comienza con 4 elementos y B con 10.\n",
        "\n",
        "#Numero inicial de bacterias\n",
        "colonia_A = 4\n",
        "colonia_B = 10\n",
        "#Tasa de crecimiento\n",
        "tasa_A = 0.03\n",
        "tasa_B = 0.015\n",
        "#Contador de días\n",
        "dias = 0\n",
        "#Condicion para terminar el bucle\n",
        "while colonia_A <= colonia_B:\n",
        "  colonia_A *= (1 + tasa_A)\n",
        "  colonia_B *= (1 + tasa_B)\n",
        "  #contador de días\n",
        "  dias += 1\n",
        "#Resultado final\n",
        "print(f\"La Colonia A necesitará {dias} días para superar o igualar a la Colonia B.\")"
      ],
      "metadata": {
        "id": "azZO3t_9SQgb",
        "outputId": "1905750c-e89f-45d8-cb7a-b001098cc018",
        "colab": {
          "base_uri": "https://localhost:8080/"
        }
      },
      "execution_count": 2,
      "outputs": [
        {
          "output_type": "stream",
          "name": "stdout",
          "text": [
            "La Colonia A necesitará 63 días para superar o igualar a la Colonia B.\n"
          ]
        }
      ]
    },
    {
      "cell_type": "code",
      "source": [
        "# 3.Para procesar una cantidad de 15 datos de evaluaciones de usuarios de un servicio de la empresa,\n",
        "#necesitamos verificar si las calificaciones son válidas. Por lo tanto, escribe un programa que recibirá\n",
        "#calificaciones del 0 al 5 y verificará si son valores válidos. Si se ingresa una calificación\n",
        "#superior a 5 o inferior a 0, se repetirá hasta que el usuario ingrese un valor válido.\n",
        "\n",
        "#bucle para recopilar las 15 calificaciones\n",
        "for i in range(1,16):\n",
        "  calificacion = float(input(f'Ingresa la calificación del usuario {i}: '))\n",
        "\n",
        "#verificacion (califiacion esta entre 0 y 5)\n",
        "  while (calificacion < 0) or (calificacion > 5):\n",
        "   calificacion = float(input(f'Calificación no valida, ingresa nuevamente la calificación del usuario {i}: '))\n",
        "\n",
        "print(\"Verificación completa. Todas las notas son válidas.\")\n",
        ""
      ],
      "metadata": {
        "id": "hamz5FXHWa2j",
        "outputId": "07c6863b-0dbf-4e5e-842e-b0a73321de87",
        "colab": {
          "base_uri": "https://localhost:8080/"
        }
      },
      "execution_count": 10,
      "outputs": [
        {
          "output_type": "stream",
          "name": "stdout",
          "text": [
            "Ingresa la calificación del usuario 1: 4\n",
            "Ingresa la calificación del usuario 2: 5\n",
            "Ingresa la calificación del usuario 3: 6\n",
            "Calificación no valida, ingresa nuevamente la calificación del usuario 3: 8\n",
            "Calificación no valida, ingresa nuevamente la calificación del usuario 3: 5\n",
            "Ingresa la calificación del usuario 4: -6\n",
            "Calificación no valida, ingresa nuevamente la calificación del usuario 4: 4\n",
            "Ingresa la calificación del usuario 5: 4\n",
            "Ingresa la calificación del usuario 6: 8\n",
            "Calificación no valida, ingresa nuevamente la calificación del usuario 6: 8\n",
            "Calificación no valida, ingresa nuevamente la calificación del usuario 6: 7\n",
            "Calificación no valida, ingresa nuevamente la calificación del usuario 6: 5\n",
            "Ingresa la calificación del usuario 7: 4\n",
            "Ingresa la calificación del usuario 8: 4\n",
            "Ingresa la calificación del usuario 9: 4\n",
            "Ingresa la calificación del usuario 10: 4\n",
            "Ingresa la calificación del usuario 11: 4\n",
            "Ingresa la calificación del usuario 12: 4\n",
            "Ingresa la calificación del usuario 13: 4\n",
            "Ingresa la calificación del usuario 14: 4\n",
            "Ingresa la calificación del usuario 15: 8\n",
            "Calificación no valida, ingresa nuevamente la calificación del usuario 15: 5\n",
            "Verificación completa. Todas las notas son válidas.\n"
          ]
        }
      ]
    },
    {
      "cell_type": "code",
      "source": [
        "# 4.Desarrolla un programa que lea un conjunto indefinido de temperaturas en grados Celsius y calcule su promedio.\n",
        "#La lectura debe detenerse al ingresar el valor -273°C.\n",
        "\n",
        "#recopilacion de temperaturas\n",
        "temperatura = float(input(\"Ingrese la temperatura en grados Celsius: \"))\n",
        "#se define el contador y la suma para el promedio\n",
        "suma_temperaturas = 0\n",
        "contador = 0\n",
        "#Hasta -273\n",
        "while temperatura != -273:\n",
        "  #La suma se acualiza sumando la temperatura ingresada\n",
        "  suma_temperaturas += temperatura\n",
        "  #Cuenta la cantidad de valores recopilado\n",
        "  contador += 1\n",
        "  #Recopila nuevamente la temperatura\n",
        "  temperatura = float(input(\"Ingrese la temperatura en grados Celsius: \"))\n",
        "#calculo del promedio\n",
        "promedio = suma_temperaturas / contador\n",
        "\n",
        "print(f\"El promedio de las temperaturas ingresadas es: {promedio}\")"
      ],
      "metadata": {
        "id": "DaR3JrOCWazD",
        "outputId": "c6d284e3-aaf9-4b91-f69f-51ab64a60a3c",
        "colab": {
          "base_uri": "https://localhost:8080/"
        }
      },
      "execution_count": 11,
      "outputs": [
        {
          "output_type": "stream",
          "name": "stdout",
          "text": [
            "Ingrese la temperatura en grados Celsius: 45\n",
            "Ingrese la temperatura en grados Celsius: 48\n",
            "Ingrese la temperatura en grados Celsius: -78\n",
            "Ingrese la temperatura en grados Celsius: -8\n",
            "Ingrese la temperatura en grados Celsius: -85\n",
            "Ingrese la temperatura en grados Celsius: -54\n",
            "Ingrese la temperatura en grados Celsius: -7\n",
            "Ingrese la temperatura en grados Celsius: -5\n",
            "Ingrese la temperatura en grados Celsius: -129\n",
            "Ingrese la temperatura en grados Celsius: -273\n",
            "El promedio de las temperaturas ingresadas es: -30.333333333333332\n"
          ]
        }
      ]
    },
    {
      "cell_type": "code",
      "source": [
        "# 5_Escribe un programa que calcule el factorial de un número entero proporcionado por el usuario.\n",
        "#Recuerda que el factorial de un número entero es el producto de ese número por todos sus antecesores\n",
        "#hasta llegar al número 1. Por ejemplo, el factorial de 5 es 5 x 4 x 3 x 2 x 1 = 120.\n",
        "\n",
        "#Recopilacion del numero\n",
        "numero = int(input('Ingrese el número con el cual se calculará el factorial: '))\n",
        "#Factorail\n",
        "factorial = 1\n",
        "#El contador inicia con el numeor maximo\n",
        "i = numero\n",
        "while i > 0:\n",
        "  #Multiplicar el factorial por todo los numero antes que el hasta 1\n",
        "  factorial *= i\n",
        "  i -= 1\n",
        "#imprime el resultado\n",
        "print(f'El factorial de {numero} es: {factorial}')\n"
      ],
      "metadata": {
        "id": "76YG-s00WawX",
        "outputId": "6fa0944e-146f-4e2a-997e-7806a43cfe77",
        "colab": {
          "base_uri": "https://localhost:8080/"
        }
      },
      "execution_count": 15,
      "outputs": [
        {
          "output_type": "stream",
          "name": "stdout",
          "text": [
            "Ingrese el número con el cual se calculará el factorial: 45\n",
            "El factorial de 45 es: 119622220865480194561963161495657715064383733760000000000\n"
          ]
        }
      ]
    },
    {
      "cell_type": "markdown",
      "source": [
        "#####**Proyectos practicos de estructuras de repetición**"
      ],
      "metadata": {
        "id": "7o5zMqLbfgU6"
      }
    },
    {
      "cell_type": "code",
      "source": [
        "#6.Escribe un programa que genere la tabla de multiplicar de un número entero del 1 al 10,\n",
        "#según la elección del usuario. Como ejemplo, para el número 2, la tabla de multiplicar debe mostrarse en el siguiente formato:\n",
        "\n",
        "#Solicitar número\n",
        "num = int(input(\"Ingrese un número entero: \"))\n",
        "#Tabla de multiplicar\n",
        "print(f\"Tabla de multiplicar del {num}:\")\n",
        "for i in range(1, 11):\n",
        "  resultado = num * i\n",
        "  print(f\"{num} x {i} = {num * i}\")"
      ],
      "metadata": {
        "id": "Y_k_QCbwWapu",
        "outputId": "e0de533c-d828-4259-b15d-85e8a7af0bc2",
        "colab": {
          "base_uri": "https://localhost:8080/"
        }
      },
      "execution_count": 16,
      "outputs": [
        {
          "output_type": "stream",
          "name": "stdout",
          "text": [
            "Ingrese un número entero: 5\n",
            "Tabla de multiplicar del 5:\n",
            "5 x 1 = 5\n",
            "5 x 2 = 10\n",
            "5 x 3 = 15\n",
            "5 x 4 = 20\n",
            "5 x 5 = 25\n",
            "5 x 6 = 30\n",
            "5 x 7 = 35\n",
            "5 x 8 = 40\n",
            "5 x 9 = 45\n",
            "5 x 10 = 50\n"
          ]
        }
      ]
    },
    {
      "cell_type": "code",
      "source": [
        "# 7 - Los números primos tienen diversas aplicaciones en Ciencia de Datos,\n",
        "#como en criptografía y seguridad. Un número primo es aquel que es divisible solo por sí mismo y por 1.\n",
        "#Por lo tanto, crea un programa que solicite un número entero y determine si es un número primo o no.\n",
        "\n",
        "#Solicitar numero\n",
        "num = int(input(\"Ingrese un número entero: \"))\n",
        "#Los numeros enteros iguales o menores a uno no se consideran primos\n",
        "if num > 1:\n",
        "  for i in range (2, num):\n",
        "\n",
        "    if (num % i) == 0:\n",
        "      print(f'{num} no es un número primo')\n",
        "      break\n",
        "    else:\n",
        "      print(f'{num} es un número primo')\n",
        "\n",
        "else:\n",
        "  print(f'{num} no es un número primo')\n",
        "\n"
      ],
      "metadata": {
        "id": "a2mjt3d5WadG",
        "outputId": "e95149e4-87d8-4719-a6f5-1ca0b561f1f0",
        "colab": {
          "base_uri": "https://localhost:8080/"
        }
      },
      "execution_count": 20,
      "outputs": [
        {
          "output_type": "stream",
          "name": "stdout",
          "text": [
            "Ingrese un número entero: 7\n",
            "7 es un número primo\n",
            "7 es un número primo\n",
            "7 es un número primo\n",
            "7 es un número primo\n",
            "7 es un número primo\n"
          ]
        }
      ]
    },
    {
      "cell_type": "code",
      "source": [
        "#8 - Vamos a comprender la distribución de edades de los pensionistas de una empresa de seguros.\n",
        "#Escribe un programa que lea las edades de una cantidad no informada de clientes y muestre la distribución\n",
        "#en los intervalos [0-25], [26-50], [51-75] y [76-100]. La entrada de datos se detendrá al ingresar un número negativo.\n",
        "\n",
        "# Recopilamos las edades de los clientes\n",
        "edad = int(input('Ingresa la edad (o un número negativo para finalizar): '))\n",
        "\n",
        "# Inicializamos las variables de conteo\n",
        "contador_0_25 = 0 # contador de edades entre 0 y 25\n",
        "contador_26_50 = 0 # contador de edades entre 26 y 50\n",
        "contador_51_75 = 0 # contador de edades entre 51 y 75\n",
        "contador_76_100 = 0 # contador de edades entre 76 y 100\n",
        "\n",
        "# Nuestro código se ejecuta hasta que el valor de edad sea negativo\n",
        "while edad >= 0:\n",
        "    # Contamos cada caso\n",
        "    if edad >= 0 and edad <= 25:\n",
        "        contador_0_25 += 1\n",
        "    elif edad >= 26 and edad <= 50:\n",
        "        contador_26_50 += 1\n",
        "    elif edad >= 51 and edad <= 75:\n",
        "        contador_51_75 += 1\n",
        "    elif edad >= 76 and edad <= 100:\n",
        "        contador_76_100 += 1\n",
        "\n",
        "    # Repetimos el proceso de entrada de datos hasta que se ingrese un número negativo\n",
        "    edad = int(input('Ingresa la edad (o un número negativo para finalizar): '))\n",
        "\n",
        "# Mostramos los resultados\n",
        "print('Distribución de edades:')\n",
        "print('[0-25]:', contador_0_25)\n",
        "print('[26-50]:', contador_26_50)\n",
        "print('[51-75]:', contador_51_75)\n",
        "print('[76-100]:', contador_76_100)\n"
      ],
      "metadata": {
        "id": "wH19DQXRvvby",
        "outputId": "981b0ecb-112f-4f05-94cb-9759add72905",
        "colab": {
          "base_uri": "https://localhost:8080/"
        }
      },
      "execution_count": 24,
      "outputs": [
        {
          "output_type": "stream",
          "name": "stdout",
          "text": [
            "Ingresa la edad (o un número negativo para finalizar): 45\n",
            "Ingresa la edad (o un número negativo para finalizar): 48\n",
            "Ingresa la edad (o un número negativo para finalizar): 45\n",
            "Ingresa la edad (o un número negativo para finalizar): 2\n",
            "Ingresa la edad (o un número negativo para finalizar): 77\n",
            "Ingresa la edad (o un número negativo para finalizar): 88\n",
            "Ingresa la edad (o un número negativo para finalizar): 55\n",
            "Ingresa la edad (o un número negativo para finalizar): 75\n",
            "Ingresa la edad (o un número negativo para finalizar): 2\n",
            "Ingresa la edad (o un número negativo para finalizar): 10\n",
            "Ingresa la edad (o un número negativo para finalizar): 15\n",
            "Ingresa la edad (o un número negativo para finalizar): 22\n",
            "Ingresa la edad (o un número negativo para finalizar): 23\n",
            "Ingresa la edad (o un número negativo para finalizar): 31\n",
            "Ingresa la edad (o un número negativo para finalizar): 38\n",
            "Ingresa la edad (o un número negativo para finalizar): 45\n",
            "Ingresa la edad (o un número negativo para finalizar): 48\n",
            "Ingresa la edad (o un número negativo para finalizar): 51\n",
            "Ingresa la edad (o un número negativo para finalizar): 59\n",
            "Ingresa la edad (o un número negativo para finalizar): 62\n",
            "Ingresa la edad (o un número negativo para finalizar): 68\n",
            "Ingresa la edad (o un número negativo para finalizar): 67\n",
            "Ingresa la edad (o un número negativo para finalizar): 69\n",
            "Ingresa la edad (o un número negativo para finalizar): 70\n",
            "Ingresa la edad (o un número negativo para finalizar): 75\n",
            "Ingresa la edad (o un número negativo para finalizar): 88\n",
            "Ingresa la edad (o un número negativo para finalizar): 82\n",
            "Ingresa la edad (o un número negativo para finalizar): 93\n",
            "Ingresa la edad (o un número negativo para finalizar): 97\n",
            "Ingresa la edad (o un número negativo para finalizar): -5\n",
            "Distribución de edades:\n",
            "[0-25]: 6\n",
            "[26-50]: 7\n",
            "[51-75]: 10\n",
            "[76-100]: 6\n"
          ]
        }
      ]
    },
    {
      "cell_type": "code",
      "source": [
        "#9.En una elección para la gerencia de una empresa con 20 empleados, hay cuatro candidatos.\n",
        "#Escribe un programa que calcule al ganador de la elección. La votación se realizó de la siguiente manera:\n",
        "#Cada empleado votó por uno de los cuatro candidatos (representados por los números 1, 2, 3 y 4).\n",
        "#También se contaron los votos nulos (representados por el número 5) y los votos en blanco (representados por el número 6).\n",
        "#Al final de la votación, el programa debe mostrar el número total de votos para cada candidato, los votos nulos y los votos en blanco.\n",
        "#Además, debe calcular y mostrar el porcentaje de votos nulos con respecto al total de votos y el porcentaje de votos en blanco con respecto al total de votos.\n",
        "\n",
        "\n",
        "# Inicializamos las variables contadoras\n",
        "votos_candidato1 = 0\n",
        "votos_candidato2 = 0\n",
        "votos_candidato3 = 0\n",
        "votos_candidato4 = 0\n",
        "votos_nulos = 0\n",
        "votos_blanco = 0\n",
        "\n",
        "# Inicio del bucle para leer los votos\n",
        "for i in range(0, 21):\n",
        "    voto = int(input('Ingresa tu voto: '))\n",
        "    if voto == 1:\n",
        "        votos_candidato1 += 1\n",
        "    elif voto == 2:\n",
        "        votos_candidato2 += 1\n",
        "    elif voto == 3:\n",
        "        votos_candidato3 += 1\n",
        "    elif voto == 4:\n",
        "        votos_candidato4 += 1\n",
        "    elif voto == 5:\n",
        "        votos_nulos += 1\n",
        "    elif voto == 6:\n",
        "        votos_blanco += 1\n",
        "    else:\n",
        "        print(\"Voto inválido.\")\n",
        "\n",
        "print(f'Votos candidato 1: {votos_candidato1}')\n",
        "print(f'Votos candidato 2: {votos_candidato2}')\n",
        "print(f'Votos candidato 3: {votos_candidato3}')\n",
        "print(f'Votos candidato 4: {votos_candidato4}')\n",
        "print(f'Votos nulos: {votos_nulos}')\n",
        "print(f'Votos en blanco: {votos_blanco}')\n",
        "print(f'Porcentaje de votos nulos: {(votos_nulos / 20 * 100)}')\n",
        "print(f'Porcentaje de votos en blanco: {(votos_blanco / 20 * 100)}')\n"
      ],
      "metadata": {
        "id": "9nmREJnexVNh",
        "outputId": "9b1a1e3a-956c-4d02-af08-17a2b3fce468",
        "colab": {
          "base_uri": "https://localhost:8080/"
        }
      },
      "execution_count": 26,
      "outputs": [
        {
          "output_type": "stream",
          "name": "stdout",
          "text": [
            "Ingresa tu voto: 4\n",
            "Ingresa tu voto: 5\n",
            "Ingresa tu voto: 1\n",
            "Ingresa tu voto: 4\n",
            "Ingresa tu voto: 5\n",
            "Ingresa tu voto: 2\n",
            "Ingresa tu voto: 3\n",
            "Ingresa tu voto: 2\n",
            "Ingresa tu voto: 1\n",
            "Ingresa tu voto: 2\n",
            "Ingresa tu voto: 4\n",
            "Ingresa tu voto: 4\n",
            "Ingresa tu voto: 5\n",
            "Ingresa tu voto: 2\n",
            "Ingresa tu voto: 3\n",
            "Ingresa tu voto: 1\n",
            "Ingresa tu voto: 4\n",
            "Ingresa tu voto: 2\n",
            "Ingresa tu voto: 8\n",
            "Voto inválido.\n",
            "Ingresa tu voto: 48\n",
            "Voto inválido.\n",
            "Votos candidato 1: 3\n",
            "Votos candidato 2: 5\n",
            "Votos candidato 3: 2\n",
            "Votos candidato 4: 5\n",
            "Votos nulos: 3\n",
            "Votos en blanco: 0\n",
            "Porcentaje de votos nulos: 15.0\n",
            "Porcentaje de votos en blanco: 0.0\n"
          ]
        }
      ]
    },
    {
      "cell_type": "markdown",
      "source": [
        "# Estructuras de datos"
      ],
      "metadata": {
        "id": "8noP8OJ0Vhux"
      }
    },
    {
      "cell_type": "markdown",
      "source": [
        "Un conjunto de elementos es una colección de items, que son almacenados juntos de manera organizada. Algunos ejemplos de conjuntos de elementos en Python son las listas, los strings y los diccionarios."
      ],
      "metadata": {
        "id": "xpEUkefTu8fY"
      }
    },
    {
      "cell_type": "markdown",
      "source": [
        "## Listas"
      ],
      "metadata": {
        "id": "THSg4KYLwxIb"
      }
    },
    {
      "cell_type": "markdown",
      "source": [
        "Las listas pueden almacenar una colección de items en orden. Ellas son delimitadas por corchetes `[]` y sus elementos son separados por comas.\n",
        "\n",
        "Estas pueden almacenar cualquier tipo de items, incluyendo números, strings, objetos, otras listas, entre otros. También nos permiten almacenar items de tipos de datos diferentes juntos en una única lista."
      ],
      "metadata": {
        "id": "dzpsiqrOyJcK"
      }
    },
    {
      "cell_type": "code",
      "source": [
        "lista = ['Penélope Camacho',9.5,9.0,9.7,True]\n",
        "lista"
      ],
      "metadata": {
        "id": "DO3TBj7nAYeG",
        "colab": {
          "base_uri": "https://localhost:8080/"
        },
        "outputId": "fbee2eb5-265e-4b5b-badf-a0dd9331074b"
      },
      "execution_count": null,
      "outputs": [
        {
          "output_type": "execute_result",
          "data": {
            "text/plain": [
              "['Penélope Camacho', 9.5, 9.0, 9.7, True]"
            ]
          },
          "metadata": {},
          "execution_count": 62
        }
      ]
    },
    {
      "cell_type": "code",
      "source": [],
      "metadata": {
        "id": "DO2ubP9N9D_2"
      },
      "execution_count": null,
      "outputs": []
    },
    {
      "cell_type": "markdown",
      "source": [
        "Las listas son organizadas en Python porque **cada elemento de la lista tiene un índice que indica su posición al interior de la lista**. Los índices comienzan en 0 van hasta el tamaño de la lista menos 1."
      ],
      "metadata": {
        "id": "qUz3sJNl6LgK"
      }
    },
    {
      "cell_type": "markdown",
      "source": [
        "Tenemos entonces 5 elementos con índices que varían de 0 a 4, ordenadamente:\n",
        "\n",
        "```\n",
        "#             [0]           [1]   [2]   [3]    [4]\n",
        "lista = ['Penélope Camacho', 9.5 , 9.0 , 9.7 , True]\n",
        "```\n",
        "\n",
        "En Python tenemos también los índices **negativos** que se inician en el último elemento con el valor de `-1` y avanzan en el universo de los negativos hasta llegar al 1° elemento:\n",
        "\n",
        "```\n",
        "#             [-5]         [-4]  [-3]  [-2]   [-1]\n",
        "lista = ['Penélope Camacho', 9.5 , 9.0 , 9.7 , True]\n",
        "```\n",
        "\n",
        "Logramos seleccionar separadamente cada elemento a través de sus respectivos índices. Colocando el nombre de la lista y en seguida el índice que será seleccionado."
      ],
      "metadata": {
        "id": "rLf-Qg526hFD"
      }
    },
    {
      "cell_type": "code",
      "source": [],
      "metadata": {
        "id": "4hco1Zqy88Kw"
      },
      "execution_count": null,
      "outputs": []
    },
    {
      "cell_type": "code",
      "source": [],
      "metadata": {
        "id": "M8lH0I2288Ph"
      },
      "execution_count": null,
      "outputs": []
    },
    {
      "cell_type": "markdown",
      "source": [
        "Una forma más dinámica de trabajar item a item en una lista es utilizando un lazo `for` para leer un elemento a la vez."
      ],
      "metadata": {
        "id": "6TaE1ijmBTCd"
      }
    },
    {
      "cell_type": "code",
      "source": [],
      "metadata": {
        "id": "rBx4Yu1786Sy"
      },
      "execution_count": null,
      "outputs": []
    },
    {
      "cell_type": "markdown",
      "source": [
        "**Situación**: La nota `9.0` de Penélope necesita ser ajustada pues ganó 1 punto en su última nota por participación en clase. Entonces es necesario realizar un cambio en el índice `2` de `9.0` a `10.0`."
      ],
      "metadata": {
        "id": "Dh1_HnIVvucY"
      }
    },
    {
      "cell_type": "code",
      "source": [],
      "metadata": {
        "id": "bVPoZg668z3T"
      },
      "execution_count": null,
      "outputs": []
    },
    {
      "cell_type": "code",
      "source": [],
      "metadata": {
        "id": "Jo_PBQ0g8z7D"
      },
      "execution_count": null,
      "outputs": []
    },
    {
      "cell_type": "markdown",
      "source": [
        "También podemos calcular el promedio del estudiante a partir de los datos que tenemos."
      ],
      "metadata": {
        "id": "53XduzXkycAf"
      }
    },
    {
      "cell_type": "code",
      "source": [],
      "metadata": {
        "id": "SIH61Rrb8yv4"
      },
      "execution_count": null,
      "outputs": []
    },
    {
      "cell_type": "markdown",
      "source": [
        "## Manipulación de listas\n",
        "\n",
        "Las listas son muy útiles en Python porque nos permiten almacenar y acceder a una colección de items de manera organizada y rápida. Estas también ofrecen muchos métodos útiles para manipular los itens almacenados, como adicionar, remover, clasificar y buscar elementos."
      ],
      "metadata": {
        "id": "d-iYr10-y4qw"
      }
    },
    {
      "cell_type": "markdown",
      "source": [
        "#### Cantidad de elementos\n",
        "\n",
        "Usamos la función [`len()`](https://docs.python.org/3/library/functions.html#len) para descubrir la cantidad de elementos de un conjunto."
      ],
      "metadata": {
        "id": "ZLqx9A97XVB_"
      }
    },
    {
      "cell_type": "code",
      "source": [],
      "metadata": {
        "id": "6q1Tmm7P8wQf"
      },
      "execution_count": null,
      "outputs": []
    },
    {
      "cell_type": "markdown",
      "source": [
        "#### Partición\n",
        "\n",
        "La partición de listas por indexación en Python es una técnica muy útil para seleccionar un subconjunto de elementos de una lista. Esta se realiza usando la sintaxis `lista[inicio:fin]`, donde `inicio` es el índice del primer elemento que será incluído en la partición `fin` es el índice del primer elemento que será excluído de la partición."
      ],
      "metadata": {
        "id": "Z5tpstlHJss3"
      }
    },
    {
      "cell_type": "code",
      "source": [],
      "metadata": {
        "id": "NctvJTTU8uV9"
      },
      "execution_count": null,
      "outputs": []
    },
    {
      "cell_type": "code",
      "source": [],
      "metadata": {
        "id": "bQZUwldj8uY2"
      },
      "execution_count": null,
      "outputs": []
    },
    {
      "cell_type": "markdown",
      "source": [
        "#### [`append()`](https://docs.python.org/3/tutorial/datastructures.html#:~:text=of%20list%20objects%3A-,list.append(x),-Add%20an%20item)\n",
        "\n",
        "Añade un elemento al final de la lista."
      ],
      "metadata": {
        "id": "O0RRyabkRzZC"
      }
    },
    {
      "cell_type": "code",
      "source": [],
      "metadata": {
        "id": "_Q0oODwa8spC"
      },
      "execution_count": null,
      "outputs": []
    },
    {
      "cell_type": "code",
      "source": [],
      "metadata": {
        "id": "RM894r2M8sse"
      },
      "execution_count": null,
      "outputs": []
    },
    {
      "cell_type": "markdown",
      "source": [
        "#### [`extend()`](https://docs.python.org/3/tutorial/datastructures.html#:~:text=list.extend(iterable))\n",
        "\n",
        "Añade varios elementos al final de la lista.\n",
        "\n",
        "Añadiremos las notas `[10.0,8.0,9.0]` En la lista de Penélope Camacho."
      ],
      "metadata": {
        "id": "uQV91XMsUOJD"
      }
    },
    {
      "cell_type": "code",
      "source": [],
      "metadata": {
        "id": "6Zk2MpMw8rQc"
      },
      "execution_count": null,
      "outputs": []
    },
    {
      "cell_type": "code",
      "source": [],
      "metadata": {
        "id": "NnoKkoWb8rTQ"
      },
      "execution_count": null,
      "outputs": []
    },
    {
      "cell_type": "markdown",
      "source": [
        "*A continuación te mostraremos lo que no puede realizarse con* `append`."
      ],
      "metadata": {
        "id": "IVJvkTwNUk6M"
      }
    },
    {
      "cell_type": "code",
      "source": [],
      "metadata": {
        "id": "u3Eub2ZL8pp3"
      },
      "execution_count": null,
      "outputs": []
    },
    {
      "cell_type": "code",
      "source": [],
      "metadata": {
        "id": "tsKK5Ne58pvN"
      },
      "execution_count": null,
      "outputs": []
    },
    {
      "cell_type": "markdown",
      "source": [
        "#### [`remove()`](https://docs.python.org/3/tutorial/datastructures.html#:~:text=append(x).-,list.remove(x),-Remove%20the%20first)\n",
        "\n",
        "Remueve un elemento específico de la lista."
      ],
      "metadata": {
        "id": "dPGM5gpyUX1z"
      }
    },
    {
      "cell_type": "code",
      "source": [],
      "metadata": {
        "id": "mmboODPc8nd5"
      },
      "execution_count": null,
      "outputs": []
    },
    {
      "cell_type": "code",
      "source": [],
      "metadata": {
        "id": "T_w6vVgV8nh_"
      },
      "execution_count": null,
      "outputs": []
    },
    {
      "cell_type": "markdown",
      "source": [
        "## Diccionario"
      ],
      "metadata": {
        "id": "Rc22Vc08YDZ2"
      }
    },
    {
      "cell_type": "markdown",
      "source": [
        "Los diccionarios son un tipo de estructura de datos que almacenan pares de *llave-valor*. Estos son delimitados por llaves `{}` y los pares *llave-valor* son separados por comas.\n",
        "\n",
        "```\n",
        "diccionario = {llave: valor}\n",
        "```\n",
        "\n",
        "La **llave** es un elemento único que identifica a un valor en el diccionario, mientras que el **valor** es el item que será almacenado para la llave. Las llaves y sus respectivos valores se pueden emplear para **cualquier tipo de dato**.\n",
        "\n",
        "Los diccionarios son útiles para almacenar y acceder a los datos de manera organizada y rápida. Se trata de un tipo de conjunto de elementos en Python, pues almacenan una colección de items."
      ],
      "metadata": {
        "id": "PJ-cCKPjeWxL"
      }
    },
    {
      "cell_type": "code",
      "source": [],
      "metadata": {
        "id": "NDHhzooE8ld5"
      },
      "execution_count": null,
      "outputs": []
    },
    {
      "cell_type": "code",
      "source": [],
      "metadata": {
        "id": "AVOzqzy-8lhh"
      },
      "execution_count": null,
      "outputs": []
    },
    {
      "cell_type": "markdown",
      "source": [
        "---\n",
        "**Situación:**\n",
        "\n",
        "Vamos a crear un conjunto de datos con las informaciones de matrícula de un estudiante. Los datos son los siguientes:\n",
        "\n",
        "- matrícula: 2000168933\n",
        "- día de registro: 25\n",
        "- mes de registro: 10\n",
        "- grupo: 2E"
      ],
      "metadata": {
        "id": "_JbQ3KMKfkXU"
      }
    },
    {
      "cell_type": "code",
      "source": [],
      "metadata": {
        "id": "0lfOu_c38jED"
      },
      "execution_count": null,
      "outputs": []
    },
    {
      "cell_type": "code",
      "source": [],
      "metadata": {
        "id": "XIuqpTTy8jHV"
      },
      "execution_count": null,
      "outputs": []
    },
    {
      "cell_type": "markdown",
      "source": [
        "Es posible sustituir los valores dentro de una llave. Por ejemplo, recibimos la información de que el grupo del estudiante que registramos cambio a `'2G'` y ahora necesitamos cambiar el valor de la llave `'grupo'`."
      ],
      "metadata": {
        "id": "8ex5pt2ykDd2"
      }
    },
    {
      "cell_type": "code",
      "source": [],
      "metadata": {
        "id": "kQGlp36b8fyP"
      },
      "execution_count": null,
      "outputs": []
    },
    {
      "cell_type": "code",
      "source": [],
      "metadata": {
        "id": "DnfH_qHi8f17"
      },
      "execution_count": null,
      "outputs": []
    },
    {
      "cell_type": "markdown",
      "source": [
        "También podemos añadir otros datos al diccionario. Vamos a añadir la información sobre la modalidad de estudio, nuestro estudiante estudiará inicialemente en la modalidad EAD.\n",
        "\n",
        "Definiremos una llave llamada `'modalidad'` con el valor `'EAD'`."
      ],
      "metadata": {
        "id": "wB0qRb56mQvv"
      }
    },
    {
      "cell_type": "code",
      "source": [],
      "metadata": {
        "id": "EeLYdlIm8d8a"
      },
      "execution_count": null,
      "outputs": []
    },
    {
      "cell_type": "code",
      "source": [],
      "metadata": {
        "id": "olDIavsm8d_o"
      },
      "execution_count": null,
      "outputs": []
    },
    {
      "cell_type": "markdown",
      "source": [
        "## Profundizando en diccionarios"
      ],
      "metadata": {
        "id": "LJ3o_inroxg_"
      }
    },
    {
      "cell_type": "markdown",
      "source": [
        "#### [`pop()`](https://python-reference.readthedocs.io/en/latest/docs/dict/pop.html)\n",
        "Remueve un item de un diccionario y lo representa en la salida."
      ],
      "metadata": {
        "id": "2N3GLlkSpBiu"
      }
    },
    {
      "cell_type": "code",
      "source": [],
      "metadata": {
        "id": "ZsSCZx6G8b-T"
      },
      "execution_count": null,
      "outputs": []
    },
    {
      "cell_type": "code",
      "source": [],
      "metadata": {
        "id": "7lQ8_jpi8cBR"
      },
      "execution_count": null,
      "outputs": []
    },
    {
      "cell_type": "markdown",
      "source": [
        "#### [`items()`](https://python-reference.readthedocs.io/en/latest/docs/dict/items.html)\n",
        "Retorna una lista de pares `llave-valor` del diccionario."
      ],
      "metadata": {
        "id": "sYZGvJJYrW_y"
      }
    },
    {
      "cell_type": "code",
      "source": [],
      "metadata": {
        "id": "ncdycLV08an7"
      },
      "execution_count": null,
      "outputs": []
    },
    {
      "cell_type": "markdown",
      "source": [
        "#### [`keys()`](https://python-reference.readthedocs.io/en/latest/docs/dict/keys.html)\n",
        "Retorna una lista de las llaves del diccionario."
      ],
      "metadata": {
        "id": "Lb0utNFGrZBY"
      }
    },
    {
      "cell_type": "code",
      "source": [],
      "metadata": {
        "id": "eZo0biaM8ZVs"
      },
      "execution_count": null,
      "outputs": []
    },
    {
      "cell_type": "markdown",
      "source": [
        "#### [`values()`](https://python-reference.readthedocs.io/en/latest/docs/dict/values.html)\n",
        "Retorna una lista de los valores del diccionario."
      ],
      "metadata": {
        "id": "qKyu3bf9rbtX"
      }
    },
    {
      "cell_type": "code",
      "source": [],
      "metadata": {
        "id": "-NxRT9C18Yvo"
      },
      "execution_count": null,
      "outputs": []
    },
    {
      "cell_type": "markdown",
      "source": [
        "### Lectura de valores con el lazo `for`"
      ],
      "metadata": {
        "id": "e3XVjR8Frp75"
      }
    },
    {
      "cell_type": "code",
      "source": [],
      "metadata": {
        "id": "NYcjU-Ip8Xan"
      },
      "execution_count": null,
      "outputs": []
    },
    {
      "cell_type": "code",
      "source": [],
      "metadata": {
        "id": "aAnpP1Wv8XfJ"
      },
      "execution_count": null,
      "outputs": []
    }
  ]
}